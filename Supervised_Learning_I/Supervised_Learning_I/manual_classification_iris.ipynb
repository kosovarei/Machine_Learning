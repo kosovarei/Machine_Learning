{
 "cells": [
  {
   "cell_type": "code",
   "execution_count": 12,
   "metadata": {},
   "outputs": [
    {
     "name": "stdout",
     "output_type": "stream",
     "text": [
      "   Unnamed: 0    0    1    2    3                4\n",
      "0           0  4.4  3.2  1.3  0.2      Iris-setosa\n",
      "1           1  4.9  3.1  1.5  0.1      Iris-setosa\n",
      "2           2  4.6  3.2  1.4  0.2      Iris-setosa\n",
      "3           3  4.4  2.9  1.4  0.2      Iris-setosa\n",
      "4           4  6.0  2.7  5.1  1.6  Iris-versicolor\n",
      "5           5  5.8  2.7  3.9  1.2  Iris-versicolor\n",
      "6           6  6.1  2.9  4.7  1.4  Iris-versicolor\n",
      "7           7  5.7  3.0  4.2  1.2  Iris-versicolor\n",
      "8           8  6.7  2.5  5.8  1.8   Iris-virginica\n",
      "9           9  6.8  3.2  5.9  2.3   Iris-virginica\n",
      "10         10  6.8  3.0  5.5  2.1   Iris-virginica\n",
      "11         11  6.3  3.4  5.6  2.4   Iris-virginica\n",
      "12         12  4.6  3.2  1.4  0.2      Iris-setosa\n",
      "13         13  5.1  2.5  3.0  1.1  Iris-versicolor\n",
      "14         14  7.2  3.0  5.8  1.6   Iris-virginica\n"
     ]
    }
   ],
   "source": [
    "import pandas as pd\n",
    "\n",
    "data_frame = pd.read_csv('data\\iris_subset.csv').astype('category')\n",
    "print(data_frame)"
   ]
  },
  {
   "cell_type": "markdown",
   "metadata": {},
   "source": [
    "# calculatin the entropy of the entire dataset:  \n",
    "Iris_setosa = 4/12, Iris_Versicolor = 4/12, Iris_Virginica = 4/12\n",
    "$$\n",
    "H(S) = -\\frac{4}{12}log_2\\frac{4}{12}-\\frac{4}{12}log_2\\frac{4}{12}-\\frac{4}{12}log_2\\frac{4}{12} = 1,585\n",
    "$$"
   ]
  },
  {
   "cell_type": "markdown",
   "metadata": {},
   "source": [
    "# finding feature with most information gain:"
   ]
  },
  {
   "cell_type": "markdown",
   "metadata": {},
   "source": [
    "# feature 0:  \n",
    "values:  \n",
    "(4.4, 4.6, 4.9, 5.7, 5.8, 6.0, 6.1, 6.3, 6.7, 6.8)   \n",
    "testing different thresholds to see which will give most information gain\n",
    "\n",
    "$$\n",
    "H(S_0 =<4.4) = -\\frac{2}{2}log_2\\frac{2}{2}-\\frac{0}{2}log_2\\frac{0}{2}-\\frac{0}{2}log_2\\frac{0}{2} = 0\n",
    "$$\n",
    "$$\n",
    "H(S_0 >4.4) = -\\frac{2}{10}log_2\\frac{2}{10}-\\frac{4}{10}log_2\\frac{4}{10}-\\frac{4}{10}log_2\\frac{4}{10} = 1,577\n",
    "$$\n",
    "$$\n",
    "H(S_0) = 1,585 - (\\frac{3}{12} * 0 + \\frac{10}{12} * 1,577 =) =  1,585 - 1.314 = 0.271\n",
    "$$\n",
    "\n",
    "$$\n",
    "H(S_0 =<4.6) = -\\frac{3}{3}log_2\\frac{3}{3}-\\frac{0}{3}log_2\\frac{0}{3}-\\frac{0}{3}log_2\\frac{0}{3} = 0\n",
    "$$\n",
    "$$\n",
    "H(S_0 >4.6) = -\\frac{1}{9}log_2\\frac{1}{9}-\\frac{4}{9}log_2\\frac{4}{9}-\\frac{4}{9}log_2\\frac{4}{9} = 1,392\n",
    "$$\n",
    "$$\n",
    "H(S_0) = 1,585 - (\\frac{3}{12} * 0 + \\frac{9}{12} * 1,392 =) =  1,585 - 1.044 = 0.541\n",
    "$$\n",
    "\n",
    "$$\n",
    "H(S_0 =<4.9) = -\\frac{4}{4}log_2\\frac{4}{4}-\\frac{0}{4}log_2\\frac{0}{4}-\\frac{0}{4}log_2\\frac{0}{4} = 0\n",
    "$$\n",
    "$$\n",
    "H(S_0 >4.9) = -\\frac{0}{8}log_2\\frac{0}{8}-\\frac{4}{8}log_2\\frac{4}{8}-\\frac{4}{8}log_2\\frac{4}{8} = 1\n",
    "$$\n",
    "$$\n",
    "H(S_0) = 1,585 - (\\frac{4}{12} * 0 + \\frac{8}{12} * 1 =) =  1,585 - 0.667 = 0.918\n",
    "$$\n",
    "\n",
    "$$\n",
    "H(S_0 =<5.7) = -\\frac{4}{5}log_2\\frac{4}{5}-\\frac{1}{5}log_2\\frac{1}{5}-\\frac{0}{5}log_2\\frac{0}{5} = 0,722\n",
    "$$\n",
    "$$\n",
    "H(S_0 >5.7) = -\\frac{0}{7}log_2\\frac{0}{7}-\\frac{3}{7}log_2\\frac{3}{7}-\\frac{4}{7}log_2\\frac{4}{7} = 0.985\n",
    "$$\n",
    "$$\n",
    "H(S_0) = 1.585 (\\frac{5}{12} * 0,722 + \\frac{7}{12} * 0.985) = = 1,585 - 0.985 = 0.6\n",
    "$$\n",
    "\n",
    "$$\n",
    "H(S_0 =<5.8) = -\\frac{4}{6}log_2\\frac{4}{6}-\\frac{2}{6}log_2\\frac{2}{6}-\\frac{0}{8}log_2\\frac{0}{8} = 0.918\n",
    "$$\n",
    "$$\n",
    "H(S_0 >5.8) = -\\frac{0}{6}log_2\\frac{0}{6}-\\frac{2}{6}log_2\\frac{2}{6}-\\frac{4}{6}log_2\\frac{4}{6} = 0.918\n",
    "$$\n",
    "$$\n",
    "H(S_0) = 1,585 - (\\frac{6}{12} * 0.918 + \\frac{6}{12} * 0.918) = =  1,585 - 0.918 = 0.667\n",
    "$$\n",
    "\n",
    "$$\n",
    "H(S_0, =<6.0) = -\\frac{4}{7}log_2\\frac{4}{7}-\\frac{3}{7}log_2\\frac{3}{7}-\\frac{0}{4}log_2\\frac{0}{4} = 0.985\n",
    "$$\n",
    "$$\n",
    "H(S_0 >6.0) = -\\frac{0}{5}log_2\\frac{0}{5}-\\frac{1}{5}log_2\\frac{1}{5}-\\frac{4}{5}log_2\\frac{4}{5} = 0.722\n",
    "$$\n",
    "$$\n",
    "H(S_0) = 1,585 - (\\frac{5}{12} * 0.985 + \\frac{7}{12} * 0.722) = 1,585 - 0.832 = 0.753\n",
    "$$\n",
    "\n",
    "$$\n",
    "H(S_0, =<6.3) = -\\frac{4}{9}log_2\\frac{4}{9}-\\frac{4}{9}log_2\\frac{4}{9}-\\frac{1}{9}log_2\\frac{1}{9} = 1,392\n",
    "$$\n",
    "$$\n",
    "H(S_0 >6.3) = -\\frac{0}{3}log_2\\frac{0}{3}-\\frac{0}{3}log_2\\frac{0}{3}-\\frac{3}{3}log_2\\frac{3}{3} = 0\n",
    "$$\n",
    "$$\n",
    "H(S_0) = 1,585 - (\\frac{9}{12} * 1,392 + \\frac{3}{12} * 0) = 1,585 - 1.044 = 0.544\n",
    "$$\n",
    "\n",
    "$$\n",
    "H(S_0, =<6.7) = -\\frac{4}{10}log_2\\frac{4}{10}-\\frac{4}{10}log_2\\frac{4}{10}-\\frac{2}{10}log_2\\frac{2}{10} = 1.522\n",
    "$$\n",
    "$$\n",
    "H(S_0 >6.7) = -\\frac{0}{2}log_2\\frac{0}{2}-\\frac{0}{2}log_2\\frac{0}{2}-\\frac{2}{2}log_2\\frac{2}{2} = 0\n",
    "$$\n",
    "$$\n",
    "H(S_0) = 1,585 - (\\frac{10}{12} * 1.522 + \\frac{2}{12} * 0) = 1,585 - 1.522 = 0.063\n",
    "$$\n",
    "\n",
    "\n",
    "\n",
    "\n"
   ]
  },
  {
   "cell_type": "markdown",
   "metadata": {},
   "source": [
    "# Information gain about the other features:  \n",
    "feature 0,2,3 will give the same amount of information gain, the reason is that the values are distributed in the same way:  \n",
    "feature 0 has a clear split between the flower types at: 4.9 and 6.1  \n",
    "feature 2 has a clear split between the flower types at: 1.5 and 5.1  \n",
    "feature 3 has a clear split between the flower types at: 0.2 and 1.6  \n",
    "\n",
    "\n",
    "  \n",
    "feature 1 will give worse information gain because the values give more mixed outcome:  \n",
    "we can see that the values have no clear split.  \n",
    "two examples:  \n",
    "the values 3.2: gives one Iris-Setosa, and one Iris-virginica  \n",
    "the value 3.0: gives one Iris-Virginica and one Iris-versicolor  \n",
    "\n",
    "  \n",
    "therefore there is no need to futher calculate on which feature should be the root node, because the other features will give the same information gain or worse. \n"
   ]
  },
  {
   "cell_type": "markdown",
   "metadata": {},
   "source": [
    "We continue with featur 0 as root node. The best threshold is at 4.9. when the feature is less or equal 4.9 it will always give Iris-Setosa. When the feature is more then 4.9 it will not give a certain anwser, so we need to find another threshold. \n",
    "  \n",
    "For the next threshold we can choose again either feature 0,2 or 3. it is better to choose another then 0, so we can get another feature to evalute and not only rely on feature 0. The choice is between feature 2 and 3. i choose feature 2 because it has a wider range of values, which can give a clearer distinction of the flowers."
   ]
  },
  {
   "cell_type": "markdown",
   "metadata": {},
   "source": [
    "                                                     feature 0                                                             \n",
    "                                                /               \\                                                          \n",
    "                                        S0<=4.9                s0>4.9                                                  \n",
    "                                            /                                                                              \n",
    "                                    Iris-setosa                                                                                                                               \n",
    "                                                            "
   ]
  },
  {
   "cell_type": "markdown",
   "metadata": {},
   "source": [
    "values of feature 2 that have S0>4.9  \n",
    "(3.9, 4.2, 4.7, 5.1, 5.5, 5.6, 5.8, 5.9)\n",
    "\n",
    "$$\n",
    "H(S_0>4.9 | S_3<=3.9)= = -\\frac{1}{1}log_2\\frac{1}{1}-\\frac{0}{1}log_2\\frac{0}{1} = 0\n",
    "$$\n",
    "$$\n",
    "H(S_0>4.9 | S_3>3.9)= = -\\frac{3}{7}log_2\\frac{3}{7}-\\frac{4}{7}log_2\\frac{4}{7} = 0.918\n",
    "$$\n",
    "$$\n",
    "H(S_0>4.9 | S_3<=4.2)= = -\\frac{2}{2}log_2\\frac{2}{2}-\\frac{0}{2}log_2\\frac{0}{2} = 0\n",
    "$$\n",
    "$$\n",
    "H(S_0>4.9 | S_3>4.2)= = -\\frac{2}{6}log_2\\frac{2}{6}-\\frac{4}{6}log_2\\frac{4}{6} = 0.722\n",
    "$$\n",
    "$$\n",
    "H(S_0>4.9 | S_3<=4.7)= = -\\frac{3}{3}log_2\\frac{3}{3}-\\frac{0}{3}log_2\\frac{0}{3} = 0\n",
    "$$\n",
    "$$\n",
    "H(S_0>4.9 | S_3>4.7)= = -\\frac{1}{5}log_2\\frac{1}{5}-\\frac{4}{5}log_2\\frac{4}{5} = 0\n",
    "$$\n",
    "$$\n",
    "H(S_0>4.9 | S_3>5.1)= = -\\frac{4}{4}log_2\\frac{4}{4}-\\frac{0}{4}log_2\\frac{0}{4} = 0\n",
    "$$\n",
    "$$\n",
    "H(S_0>4.9 | S_3>5.1)= = -\\frac{0}{4}log_2\\frac{0}{4}-\\frac{4}{4}log_2\\frac{4}{4} = 0\n",
    "$$\n",
    "the split for 5.1 gives perfect entropy, we don't have to continue calculations  \n",
    "total information gain:  \n",
    "$$\n",
    "H(S_0>4.9 | S_1) = 1,585 - (\\frac{4}{8} * 0 + \\frac{4}{8} * 0) = 1,585 - 0 = 1.585\n",
    "$$\n",
    "this gives perfect split for the two other flower types\n"
   ]
  },
  {
   "cell_type": "markdown",
   "metadata": {},
   "source": [
    "# finished version of the decision tree:"
   ]
  },
  {
   "cell_type": "markdown",
   "metadata": {},
   "source": [
    "                                                     feature 0                                                             \n",
    "                                                /               \\                                                          \n",
    "                                        S0<=4.9                s0>4.9                                                  \n",
    "                                            /                     \\                                                        \n",
    "                                    Iris-setosa                  /  \\                                                      \n",
    "                                                            s2<=5.1   s3>5.1                                               \n",
    "                                                             /         \\                                                   \n",
    "                                                   Iris-versicolor     Iris-virginica                                      \n",
    "                                                   "
   ]
  },
  {
   "cell_type": "markdown",
   "metadata": {},
   "source": [
    "# test with test data row 12-15  \n",
    "row 12 -> Iris setosa  \n",
    "row 13 -> Iris versicolor  \n",
    "row 14 -> Iris virginica  "
   ]
  },
  {
   "cell_type": "markdown",
   "metadata": {},
   "source": [
    "# The accuracy of the test data:\n",
    "$$\n",
    "Accuracy =  \\frac{number-of-correct-predictions}{total-number-of-predictions} =  \\frac{3}{3} = 1\n",
    "$$\n",
    "\n",
    "This shows that the model made all the correct predictions for the test dataset. resulting in a perfect accuracy of 100%. However, it's important to consider the following points:  \n",
    "1. the dataset is small, this will not guarantee that it will perform as good on larger test datasets  \n",
    "2. we don't know if the model could be overfitted, because we need a bigger and more diverse dataset to figure that out.  \n",
    "  \n",
    "but for the data we have, we can say that it is a good model"
   ]
  }
 ],
 "metadata": {
  "kernelspec": {
   "display_name": "Python 3",
   "language": "python",
   "name": "python3"
  },
  "language_info": {
   "codemirror_mode": {
    "name": "ipython",
    "version": 3
   },
   "file_extension": ".py",
   "mimetype": "text/x-python",
   "name": "python",
   "nbconvert_exporter": "python",
   "pygments_lexer": "ipython3",
   "version": "3.10.6"
  }
 },
 "nbformat": 4,
 "nbformat_minor": 2
}
