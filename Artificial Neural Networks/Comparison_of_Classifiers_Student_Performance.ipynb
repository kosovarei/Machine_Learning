{
 "cells": [
  {
   "cell_type": "code",
   "execution_count": 89,
   "metadata": {},
   "outputs": [],
   "source": [
    "import pandas as pd\n",
    "from sklearn.model_selection import train_test_split\n",
    "from sklearn.metrics import accuracy_score, precision_score, recall_score, f1_score, roc_auc_score, make_scorer, confusion_matrix\n",
    "from sklearn.model_selection import GridSearchCV\n",
    "from sklearn.model_selection import StratifiedKFold\n",
    "from sklearn.neural_network import MLPClassifier\n",
    "import numpy as np\n",
    "from sklearn.pipeline import Pipeline\n",
    "from sklearn.decomposition import PCA\n",
    "import matplotlib.pyplot as plt\n",
    "from sklearn.compose import ColumnTransformer\n",
    "from tensorflow.keras.models import Sequential\n",
    "from tensorflow.keras.layers import Dense, Dropout\n",
    "from sklearn.preprocessing import LabelEncoder\n",
    "\n",
    "from sklearn.preprocessing import StandardScaler\n",
    "\n",
    "from scikeras.wrappers import KerasClassifier\n",
    "\n",
    "import tensorflow as tf\n",
    "from imblearn.over_sampling import SMOTE\n",
    "from imblearn.pipeline import Pipeline as imbpipeline\n",
    "import seaborn as sb"
   ]
  },
  {
   "cell_type": "markdown",
   "metadata": {},
   "source": [
    "# Comparison of Classifiers for Student Performance Prediction"
   ]
  },
  {
   "cell_type": "markdown",
   "metadata": {},
   "source": [
    "The objective in this assignment is to compare the performance of different classifiers on the Student Performance dataset Download Student Performance dataset. What is the best algorithm for the dataset? How does ANNs compare to other ML methods? What is the best ANN architecture? "
   ]
  },
  {
   "cell_type": "code",
   "execution_count": 8,
   "metadata": {},
   "outputs": [
    {
     "data": {
      "text/html": [
       "<div>\n",
       "<style scoped>\n",
       "    .dataframe tbody tr th:only-of-type {\n",
       "        vertical-align: middle;\n",
       "    }\n",
       "\n",
       "    .dataframe tbody tr th {\n",
       "        vertical-align: top;\n",
       "    }\n",
       "\n",
       "    .dataframe thead th {\n",
       "        text-align: right;\n",
       "    }\n",
       "</style>\n",
       "<table border=\"1\" class=\"dataframe\">\n",
       "  <thead>\n",
       "    <tr style=\"text-align: right;\">\n",
       "      <th></th>\n",
       "      <th>Marital status</th>\n",
       "      <th>Application mode</th>\n",
       "      <th>Application order</th>\n",
       "      <th>Course</th>\n",
       "      <th>Daytime/evening attendance\\t</th>\n",
       "      <th>Previous qualification</th>\n",
       "      <th>Previous qualification (grade)</th>\n",
       "      <th>Nacionality</th>\n",
       "      <th>Mother's qualification</th>\n",
       "      <th>Father's qualification</th>\n",
       "      <th>...</th>\n",
       "      <th>Curricular units 2nd sem (credited)</th>\n",
       "      <th>Curricular units 2nd sem (enrolled)</th>\n",
       "      <th>Curricular units 2nd sem (evaluations)</th>\n",
       "      <th>Curricular units 2nd sem (approved)</th>\n",
       "      <th>Curricular units 2nd sem (grade)</th>\n",
       "      <th>Curricular units 2nd sem (without evaluations)</th>\n",
       "      <th>Unemployment rate</th>\n",
       "      <th>Inflation rate</th>\n",
       "      <th>GDP</th>\n",
       "      <th>Target</th>\n",
       "    </tr>\n",
       "  </thead>\n",
       "  <tbody>\n",
       "    <tr>\n",
       "      <th>0</th>\n",
       "      <td>1</td>\n",
       "      <td>17</td>\n",
       "      <td>5</td>\n",
       "      <td>171</td>\n",
       "      <td>1</td>\n",
       "      <td>1</td>\n",
       "      <td>122.0</td>\n",
       "      <td>1</td>\n",
       "      <td>19</td>\n",
       "      <td>12</td>\n",
       "      <td>...</td>\n",
       "      <td>0</td>\n",
       "      <td>0</td>\n",
       "      <td>0</td>\n",
       "      <td>0</td>\n",
       "      <td>0.000000</td>\n",
       "      <td>0</td>\n",
       "      <td>10.8</td>\n",
       "      <td>1.4</td>\n",
       "      <td>1.74</td>\n",
       "      <td>Dropout</td>\n",
       "    </tr>\n",
       "    <tr>\n",
       "      <th>1</th>\n",
       "      <td>1</td>\n",
       "      <td>15</td>\n",
       "      <td>1</td>\n",
       "      <td>9254</td>\n",
       "      <td>1</td>\n",
       "      <td>1</td>\n",
       "      <td>160.0</td>\n",
       "      <td>1</td>\n",
       "      <td>1</td>\n",
       "      <td>3</td>\n",
       "      <td>...</td>\n",
       "      <td>0</td>\n",
       "      <td>6</td>\n",
       "      <td>6</td>\n",
       "      <td>6</td>\n",
       "      <td>13.666667</td>\n",
       "      <td>0</td>\n",
       "      <td>13.9</td>\n",
       "      <td>-0.3</td>\n",
       "      <td>0.79</td>\n",
       "      <td>Graduate</td>\n",
       "    </tr>\n",
       "    <tr>\n",
       "      <th>2</th>\n",
       "      <td>1</td>\n",
       "      <td>1</td>\n",
       "      <td>5</td>\n",
       "      <td>9070</td>\n",
       "      <td>1</td>\n",
       "      <td>1</td>\n",
       "      <td>122.0</td>\n",
       "      <td>1</td>\n",
       "      <td>37</td>\n",
       "      <td>37</td>\n",
       "      <td>...</td>\n",
       "      <td>0</td>\n",
       "      <td>6</td>\n",
       "      <td>0</td>\n",
       "      <td>0</td>\n",
       "      <td>0.000000</td>\n",
       "      <td>0</td>\n",
       "      <td>10.8</td>\n",
       "      <td>1.4</td>\n",
       "      <td>1.74</td>\n",
       "      <td>Dropout</td>\n",
       "    </tr>\n",
       "    <tr>\n",
       "      <th>3</th>\n",
       "      <td>1</td>\n",
       "      <td>17</td>\n",
       "      <td>2</td>\n",
       "      <td>9773</td>\n",
       "      <td>1</td>\n",
       "      <td>1</td>\n",
       "      <td>122.0</td>\n",
       "      <td>1</td>\n",
       "      <td>38</td>\n",
       "      <td>37</td>\n",
       "      <td>...</td>\n",
       "      <td>0</td>\n",
       "      <td>6</td>\n",
       "      <td>10</td>\n",
       "      <td>5</td>\n",
       "      <td>12.400000</td>\n",
       "      <td>0</td>\n",
       "      <td>9.4</td>\n",
       "      <td>-0.8</td>\n",
       "      <td>-3.12</td>\n",
       "      <td>Graduate</td>\n",
       "    </tr>\n",
       "    <tr>\n",
       "      <th>4</th>\n",
       "      <td>2</td>\n",
       "      <td>39</td>\n",
       "      <td>1</td>\n",
       "      <td>8014</td>\n",
       "      <td>0</td>\n",
       "      <td>1</td>\n",
       "      <td>100.0</td>\n",
       "      <td>1</td>\n",
       "      <td>37</td>\n",
       "      <td>38</td>\n",
       "      <td>...</td>\n",
       "      <td>0</td>\n",
       "      <td>6</td>\n",
       "      <td>6</td>\n",
       "      <td>6</td>\n",
       "      <td>13.000000</td>\n",
       "      <td>0</td>\n",
       "      <td>13.9</td>\n",
       "      <td>-0.3</td>\n",
       "      <td>0.79</td>\n",
       "      <td>Graduate</td>\n",
       "    </tr>\n",
       "  </tbody>\n",
       "</table>\n",
       "<p>5 rows × 37 columns</p>\n",
       "</div>"
      ],
      "text/plain": [
       "   Marital status  Application mode  Application order  Course  \\\n",
       "0               1                17                  5     171   \n",
       "1               1                15                  1    9254   \n",
       "2               1                 1                  5    9070   \n",
       "3               1                17                  2    9773   \n",
       "4               2                39                  1    8014   \n",
       "\n",
       "   Daytime/evening attendance\\t  Previous qualification  \\\n",
       "0                             1                       1   \n",
       "1                             1                       1   \n",
       "2                             1                       1   \n",
       "3                             1                       1   \n",
       "4                             0                       1   \n",
       "\n",
       "   Previous qualification (grade)  Nacionality  Mother's qualification  \\\n",
       "0                           122.0            1                      19   \n",
       "1                           160.0            1                       1   \n",
       "2                           122.0            1                      37   \n",
       "3                           122.0            1                      38   \n",
       "4                           100.0            1                      37   \n",
       "\n",
       "   Father's qualification  ...  Curricular units 2nd sem (credited)  \\\n",
       "0                      12  ...                                    0   \n",
       "1                       3  ...                                    0   \n",
       "2                      37  ...                                    0   \n",
       "3                      37  ...                                    0   \n",
       "4                      38  ...                                    0   \n",
       "\n",
       "   Curricular units 2nd sem (enrolled)  \\\n",
       "0                                    0   \n",
       "1                                    6   \n",
       "2                                    6   \n",
       "3                                    6   \n",
       "4                                    6   \n",
       "\n",
       "   Curricular units 2nd sem (evaluations)  \\\n",
       "0                                       0   \n",
       "1                                       6   \n",
       "2                                       0   \n",
       "3                                      10   \n",
       "4                                       6   \n",
       "\n",
       "   Curricular units 2nd sem (approved)  Curricular units 2nd sem (grade)  \\\n",
       "0                                    0                          0.000000   \n",
       "1                                    6                         13.666667   \n",
       "2                                    0                          0.000000   \n",
       "3                                    5                         12.400000   \n",
       "4                                    6                         13.000000   \n",
       "\n",
       "   Curricular units 2nd sem (without evaluations)  Unemployment rate  \\\n",
       "0                                               0               10.8   \n",
       "1                                               0               13.9   \n",
       "2                                               0               10.8   \n",
       "3                                               0                9.4   \n",
       "4                                               0               13.9   \n",
       "\n",
       "   Inflation rate   GDP    Target  \n",
       "0             1.4  1.74   Dropout  \n",
       "1            -0.3  0.79  Graduate  \n",
       "2             1.4  1.74   Dropout  \n",
       "3            -0.8 -3.12  Graduate  \n",
       "4            -0.3  0.79  Graduate  \n",
       "\n",
       "[5 rows x 37 columns]"
      ]
     },
     "execution_count": 8,
     "metadata": {},
     "output_type": "execute_result"
    }
   ],
   "source": [
    "student_data = pd.read_csv('data/data.csv',sep=';')\n",
    "student_data.head()"
   ]
  },
  {
   "cell_type": "markdown",
   "metadata": {},
   "source": [
    "# Introduction\n",
    "This is an extension of Supervised Learning II: Classifier for Breast Cancer. In this project, I will use the same dataset but apply Artificial Neural Networks (ANNs) to evaluate their performance and compare the results to those obtained with previous methods. Since I already conducted exploratory data analysis in the previous assignment, I will reuse the same preprocessing steps and pipelines. To maintain better organization, I will keep this extended assignment in a separate file. \n",
    "  \n",
    "The models I will be comparing are the MLPClassifier and Keras Sequential models with two different architectures.\n",
    "  \n",
    "The steps i will follow in this assignment:  \n",
    "        1. Hyperparameter Tuning: I will be using nested grid search to find the best parameters for each model  \n",
    "        2. Model evaluation: evaluating using accuracy, precision, recall, the f-measure and roc-auc to conclude which is the best model. "
   ]
  },
  {
   "cell_type": "markdown",
   "metadata": {},
   "source": [
    "# preprocessing of data"
   ]
  },
  {
   "cell_type": "markdown",
   "metadata": {},
   "source": [
    "# encoding categorical value\n",
    "to make it easier for the functions used later"
   ]
  },
  {
   "cell_type": "code",
   "execution_count": 9,
   "metadata": {},
   "outputs": [
    {
     "data": {
      "text/html": [
       "<div>\n",
       "<style scoped>\n",
       "    .dataframe tbody tr th:only-of-type {\n",
       "        vertical-align: middle;\n",
       "    }\n",
       "\n",
       "    .dataframe tbody tr th {\n",
       "        vertical-align: top;\n",
       "    }\n",
       "\n",
       "    .dataframe thead th {\n",
       "        text-align: right;\n",
       "    }\n",
       "</style>\n",
       "<table border=\"1\" class=\"dataframe\">\n",
       "  <thead>\n",
       "    <tr style=\"text-align: right;\">\n",
       "      <th></th>\n",
       "      <th>Marital status</th>\n",
       "      <th>Application mode</th>\n",
       "      <th>Application order</th>\n",
       "      <th>Course</th>\n",
       "      <th>Daytime/evening attendance\\t</th>\n",
       "      <th>Previous qualification</th>\n",
       "      <th>Previous qualification (grade)</th>\n",
       "      <th>Nacionality</th>\n",
       "      <th>Mother's qualification</th>\n",
       "      <th>Father's qualification</th>\n",
       "      <th>...</th>\n",
       "      <th>Curricular units 2nd sem (credited)</th>\n",
       "      <th>Curricular units 2nd sem (enrolled)</th>\n",
       "      <th>Curricular units 2nd sem (evaluations)</th>\n",
       "      <th>Curricular units 2nd sem (approved)</th>\n",
       "      <th>Curricular units 2nd sem (grade)</th>\n",
       "      <th>Curricular units 2nd sem (without evaluations)</th>\n",
       "      <th>Unemployment rate</th>\n",
       "      <th>Inflation rate</th>\n",
       "      <th>GDP</th>\n",
       "      <th>Target</th>\n",
       "    </tr>\n",
       "  </thead>\n",
       "  <tbody>\n",
       "    <tr>\n",
       "      <th>0</th>\n",
       "      <td>1</td>\n",
       "      <td>17</td>\n",
       "      <td>5</td>\n",
       "      <td>171</td>\n",
       "      <td>1</td>\n",
       "      <td>1</td>\n",
       "      <td>122.0</td>\n",
       "      <td>1</td>\n",
       "      <td>19</td>\n",
       "      <td>12</td>\n",
       "      <td>...</td>\n",
       "      <td>0</td>\n",
       "      <td>0</td>\n",
       "      <td>0</td>\n",
       "      <td>0</td>\n",
       "      <td>0.000000</td>\n",
       "      <td>0</td>\n",
       "      <td>10.8</td>\n",
       "      <td>1.4</td>\n",
       "      <td>1.74</td>\n",
       "      <td>0</td>\n",
       "    </tr>\n",
       "    <tr>\n",
       "      <th>1</th>\n",
       "      <td>1</td>\n",
       "      <td>15</td>\n",
       "      <td>1</td>\n",
       "      <td>9254</td>\n",
       "      <td>1</td>\n",
       "      <td>1</td>\n",
       "      <td>160.0</td>\n",
       "      <td>1</td>\n",
       "      <td>1</td>\n",
       "      <td>3</td>\n",
       "      <td>...</td>\n",
       "      <td>0</td>\n",
       "      <td>6</td>\n",
       "      <td>6</td>\n",
       "      <td>6</td>\n",
       "      <td>13.666667</td>\n",
       "      <td>0</td>\n",
       "      <td>13.9</td>\n",
       "      <td>-0.3</td>\n",
       "      <td>0.79</td>\n",
       "      <td>2</td>\n",
       "    </tr>\n",
       "    <tr>\n",
       "      <th>2</th>\n",
       "      <td>1</td>\n",
       "      <td>1</td>\n",
       "      <td>5</td>\n",
       "      <td>9070</td>\n",
       "      <td>1</td>\n",
       "      <td>1</td>\n",
       "      <td>122.0</td>\n",
       "      <td>1</td>\n",
       "      <td>37</td>\n",
       "      <td>37</td>\n",
       "      <td>...</td>\n",
       "      <td>0</td>\n",
       "      <td>6</td>\n",
       "      <td>0</td>\n",
       "      <td>0</td>\n",
       "      <td>0.000000</td>\n",
       "      <td>0</td>\n",
       "      <td>10.8</td>\n",
       "      <td>1.4</td>\n",
       "      <td>1.74</td>\n",
       "      <td>0</td>\n",
       "    </tr>\n",
       "    <tr>\n",
       "      <th>3</th>\n",
       "      <td>1</td>\n",
       "      <td>17</td>\n",
       "      <td>2</td>\n",
       "      <td>9773</td>\n",
       "      <td>1</td>\n",
       "      <td>1</td>\n",
       "      <td>122.0</td>\n",
       "      <td>1</td>\n",
       "      <td>38</td>\n",
       "      <td>37</td>\n",
       "      <td>...</td>\n",
       "      <td>0</td>\n",
       "      <td>6</td>\n",
       "      <td>10</td>\n",
       "      <td>5</td>\n",
       "      <td>12.400000</td>\n",
       "      <td>0</td>\n",
       "      <td>9.4</td>\n",
       "      <td>-0.8</td>\n",
       "      <td>-3.12</td>\n",
       "      <td>2</td>\n",
       "    </tr>\n",
       "    <tr>\n",
       "      <th>4</th>\n",
       "      <td>2</td>\n",
       "      <td>39</td>\n",
       "      <td>1</td>\n",
       "      <td>8014</td>\n",
       "      <td>0</td>\n",
       "      <td>1</td>\n",
       "      <td>100.0</td>\n",
       "      <td>1</td>\n",
       "      <td>37</td>\n",
       "      <td>38</td>\n",
       "      <td>...</td>\n",
       "      <td>0</td>\n",
       "      <td>6</td>\n",
       "      <td>6</td>\n",
       "      <td>6</td>\n",
       "      <td>13.000000</td>\n",
       "      <td>0</td>\n",
       "      <td>13.9</td>\n",
       "      <td>-0.3</td>\n",
       "      <td>0.79</td>\n",
       "      <td>2</td>\n",
       "    </tr>\n",
       "  </tbody>\n",
       "</table>\n",
       "<p>5 rows × 37 columns</p>\n",
       "</div>"
      ],
      "text/plain": [
       "   Marital status  Application mode  Application order  Course  \\\n",
       "0               1                17                  5     171   \n",
       "1               1                15                  1    9254   \n",
       "2               1                 1                  5    9070   \n",
       "3               1                17                  2    9773   \n",
       "4               2                39                  1    8014   \n",
       "\n",
       "   Daytime/evening attendance\\t  Previous qualification  \\\n",
       "0                             1                       1   \n",
       "1                             1                       1   \n",
       "2                             1                       1   \n",
       "3                             1                       1   \n",
       "4                             0                       1   \n",
       "\n",
       "   Previous qualification (grade)  Nacionality  Mother's qualification  \\\n",
       "0                           122.0            1                      19   \n",
       "1                           160.0            1                       1   \n",
       "2                           122.0            1                      37   \n",
       "3                           122.0            1                      38   \n",
       "4                           100.0            1                      37   \n",
       "\n",
       "   Father's qualification  ...  Curricular units 2nd sem (credited)  \\\n",
       "0                      12  ...                                    0   \n",
       "1                       3  ...                                    0   \n",
       "2                      37  ...                                    0   \n",
       "3                      37  ...                                    0   \n",
       "4                      38  ...                                    0   \n",
       "\n",
       "   Curricular units 2nd sem (enrolled)  \\\n",
       "0                                    0   \n",
       "1                                    6   \n",
       "2                                    6   \n",
       "3                                    6   \n",
       "4                                    6   \n",
       "\n",
       "   Curricular units 2nd sem (evaluations)  \\\n",
       "0                                       0   \n",
       "1                                       6   \n",
       "2                                       0   \n",
       "3                                      10   \n",
       "4                                       6   \n",
       "\n",
       "   Curricular units 2nd sem (approved)  Curricular units 2nd sem (grade)  \\\n",
       "0                                    0                          0.000000   \n",
       "1                                    6                         13.666667   \n",
       "2                                    0                          0.000000   \n",
       "3                                    5                         12.400000   \n",
       "4                                    6                         13.000000   \n",
       "\n",
       "   Curricular units 2nd sem (without evaluations)  Unemployment rate  \\\n",
       "0                                               0               10.8   \n",
       "1                                               0               13.9   \n",
       "2                                               0               10.8   \n",
       "3                                               0                9.4   \n",
       "4                                               0               13.9   \n",
       "\n",
       "   Inflation rate   GDP  Target  \n",
       "0             1.4  1.74       0  \n",
       "1            -0.3  0.79       2  \n",
       "2             1.4  1.74       0  \n",
       "3            -0.8 -3.12       2  \n",
       "4            -0.3  0.79       2  \n",
       "\n",
       "[5 rows x 37 columns]"
      ]
     },
     "execution_count": 9,
     "metadata": {},
     "output_type": "execute_result"
    }
   ],
   "source": [
    "label_encoder = LabelEncoder()\n",
    "\n",
    "student_data['Target'] = label_encoder.fit_transform(student_data['Target'])\n",
    "\n",
    "student_data.head()"
   ]
  },
  {
   "cell_type": "markdown",
   "metadata": {},
   "source": [
    "# PCA (dimention reduction)\n",
    "usually works best with scaler, that is why i am testing it in combination of standardscaler"
   ]
  },
  {
   "cell_type": "code",
   "execution_count": 10,
   "metadata": {},
   "outputs": [],
   "source": [
    "pca = ColumnTransformer([\n",
    "     \n",
    "     (\"pca1\", PCA(1), [7, 20]),        # international and nationality\n",
    "     (\"pca2\", PCA(1), [10, 11]),       # mother and fathers occupation\n",
    "     (\"pca3\", PCA(1), [21, 27]),       # Curricular units 1st sem matching with their corresponding Curricular units 2nd sem\n",
    "     (\"pca4\", PCA(1), [22, 28]),\n",
    "     (\"pca5\", PCA(1), [23, 29]),\n",
    "     (\"pca6\", PCA(1), [24, 30]),\n",
    "     (\"pca7\", PCA(1), [25, 31]),\n",
    "     (\"pca8\", PCA(1), [26, 32])\n",
    "     ], remainder='passthrough')      #the rest of the columns get added back, so we dont loose on important information"
   ]
  },
  {
   "cell_type": "markdown",
   "metadata": {},
   "source": [
    "# pipe with all the changes to the dataset"
   ]
  },
  {
   "cell_type": "code",
   "execution_count": 11,
   "metadata": {},
   "outputs": [],
   "source": [
    "def pipe_scaled(model):\n",
    "    return Pipeline([('scaler', StandardScaler()), ('classifier', model)])"
   ]
  },
  {
   "cell_type": "code",
   "execution_count": 12,
   "metadata": {},
   "outputs": [],
   "source": [
    "def pipe_scaled_pca(model):\n",
    "    return Pipeline([('scaler', StandardScaler()), ('pca', pca), ('classifier', model)])"
   ]
  },
  {
   "cell_type": "code",
   "execution_count": 13,
   "metadata": {},
   "outputs": [],
   "source": [
    "def pipe_normalized_pca_balanced(model):\n",
    "    return imbpipeline(steps=[\n",
    "    ('scaler', StandardScaler()),\n",
    "    ('smote', SMOTE()),\n",
    "    ('pca', pca),\n",
    "    ('classifier', model)\n",
    "])"
   ]
  },
  {
   "cell_type": "markdown",
   "metadata": {},
   "source": [
    "# Split the dataset into suitable partitions"
   ]
  },
  {
   "cell_type": "code",
   "execution_count": 14,
   "metadata": {},
   "outputs": [],
   "source": [
    "features = student_data.drop('Target', axis=1)\n",
    "targets = student_data['Target']\n",
    "\n",
    "train_val_features, test_features, train_val_targets, test_targets = train_test_split(features, targets, test_size=0.2)"
   ]
  },
  {
   "cell_type": "markdown",
   "metadata": {},
   "source": [
    "# hyperparameter tuning to find the best possible network configuration \n",
    "I will test the models in two rounds. In the first round, I will evaluate which dataset provides the best results for the models. In the second round, I will take the best-performing model and dataset combination and fine-tune the parameters to achieve the optimal results."
   ]
  },
  {
   "cell_type": "markdown",
   "metadata": {},
   "source": [
    "# Round One: Finding the Best dataset for the models\n",
    "In this round, I will determine which alterations of the dataset yield the best results. I will test every model with each dataset variation. Once I identify the best-performing dataset, I will use it to fine-tune the models' parameters. This approach reduces runtime by allowing me to focus first on selecting the optimal dataset before delving into parameter optimization. For now, I will test simple models with default parameters. I will first test with default parameters."
   ]
  },
  {
   "cell_type": "markdown",
   "metadata": {},
   "source": [
    "# function to evaluate model"
   ]
  },
  {
   "cell_type": "code",
   "execution_count": 15,
   "metadata": {},
   "outputs": [],
   "source": [
    "def evaluate(estimator, X, y, model_type): \n",
    "    if model_type == 'sklearn':\n",
    "        probabilities = estimator.predict_proba(X)\n",
    "    elif model_type == 'keras':\n",
    "        probabilities = estimator.predict(X)\n",
    "    \n",
    "    prediction_indices = np.argmax(probabilities, axis=1)\n",
    "    \n",
    "    return {\n",
    "        'accuracy': accuracy_score(y, prediction_indices),\n",
    "        'precision': precision_score(y, prediction_indices, average='weighted'),\n",
    "        'recall': recall_score(y, prediction_indices, average='weighted'),\n",
    "        'f1': f1_score(y, prediction_indices, average='weighted'),\n",
    "        'roc_auc': roc_auc_score(y, probabilities, multi_class=\"ovr\") \n",
    "    }"
   ]
  },
  {
   "cell_type": "markdown",
   "metadata": {},
   "source": [
    "# MLP classifier\n",
    "I will first test the MLP classifier. This is a type of neural network that can be used like any other classifier, even though it is based on a neural network architecture. It is a feedforward neural network that uses dense layers.\n",
    "The MLP classifier is particularly useful for a variety of reasons, it is used to learn non-linear relationships and see more complex patterns."
   ]
  },
  {
   "cell_type": "markdown",
   "metadata": {},
   "source": [
    "# MLP classifier with original dataset"
   ]
  },
  {
   "cell_type": "code",
   "execution_count": 30,
   "metadata": {},
   "outputs": [
    {
     "data": {
      "text/plain": [
       "{'accuracy': 0.6011299435028249,\n",
       " 'precision': 0.6215220613480804,\n",
       " 'recall': 0.6011299435028249,\n",
       " 'f1': 0.5289921996211034,\n",
       " 'roc_auc': 0.7882502110095643}"
      ]
     },
     "execution_count": 30,
     "metadata": {},
     "output_type": "execute_result"
    }
   ],
   "source": [
    "mlp_classifier = MLPClassifier(max_iter=1000).fit(train_val_features, train_val_targets)\n",
    "evaluate(mlp_classifier, test_features, test_targets, 'sklearn')"
   ]
  },
  {
   "cell_type": "markdown",
   "metadata": {},
   "source": [
    "# MLP classifier with scaled dataset"
   ]
  },
  {
   "cell_type": "code",
   "execution_count": null,
   "metadata": {},
   "outputs": [
    {
     "data": {
      "text/plain": [
       "{'accuracy': 0.7062146892655368,\n",
       " 'precision': 0.7043545581434714,\n",
       " 'recall': 0.7062146892655368,\n",
       " 'f1': 0.705116390276474,\n",
       " 'roc_auc': 0.8286473473586214}"
      ]
     },
     "execution_count": 31,
     "metadata": {},
     "output_type": "execute_result"
    }
   ],
   "source": [
    "mlp_model = MLPClassifier(max_iter=1000)\n",
    "\n",
    "mlp_pipe_1 = pipe_scaled(mlp_model)\n",
    "mlp_pipe_1.fit(train_val_features, train_val_targets)\n",
    "\n",
    "evaluate(mlp_pipe_1, test_features, test_targets, 'sklearn')"
   ]
  },
  {
   "cell_type": "markdown",
   "metadata": {},
   "source": [
    "# MLP classifier with scaling and pca"
   ]
  },
  {
   "cell_type": "code",
   "execution_count": null,
   "metadata": {},
   "outputs": [
    {
     "name": "stderr",
     "output_type": "stream",
     "text": [
      "c:\\Users\\Kosov\\AppData\\Local\\Programs\\Python\\Python310\\lib\\site-packages\\sklearn\\neural_network\\_multilayer_perceptron.py:690: ConvergenceWarning: Stochastic Optimizer: Maximum iterations (1000) reached and the optimization hasn't converged yet.\n",
      "  warnings.warn(\n"
     ]
    },
    {
     "data": {
      "text/plain": [
       "{'accuracy': 0.6994350282485876,\n",
       " 'precision': 0.7007787981114373,\n",
       " 'recall': 0.6994350282485876,\n",
       " 'f1': 0.7000551202453517,\n",
       " 'roc_auc': 0.8226262495461727}"
      ]
     },
     "execution_count": 32,
     "metadata": {},
     "output_type": "execute_result"
    }
   ],
   "source": [
    "mlp_model = MLPClassifier(max_iter=1000)\n",
    "\n",
    "mlp_pipe_2 = pipe_scaled_pca(mlp_model)\n",
    "mlp_pipe_2.fit(train_val_features, train_val_targets)\n"
   ]
  },
  {
   "cell_type": "markdown",
   "metadata": {},
   "source": [
    "# MLP classifier with scaling, oversamling and pca"
   ]
  },
  {
   "cell_type": "code",
   "execution_count": null,
   "metadata": {},
   "outputs": [
    {
     "data": {
      "text/plain": [
       "{'accuracy': 0.6903954802259887,\n",
       " 'precision': 0.6863132480125645,\n",
       " 'recall': 0.6903954802259887,\n",
       " 'f1': 0.6881036867120721,\n",
       " 'roc_auc': 0.8205456228070312}"
      ]
     },
     "execution_count": 33,
     "metadata": {},
     "output_type": "execute_result"
    }
   ],
   "source": [
    "mlp_model = MLPClassifier(max_iter=1000)\n",
    "\n",
    "mlp_pipe_3 = pipe_normalized_pca_balanced(mlp_model)\n",
    "mlp_pipe_3.fit(train_val_features, train_val_targets)\n",
    "\n",
    "\n",
    "evaluate(mlp_pipe_3, test_features, test_targets, 'sklearn')"
   ]
  },
  {
   "cell_type": "markdown",
   "metadata": {},
   "source": [
    "# Sequential model 1 with simple architecture\n",
    "For the first sequential model, I am using a simpler architecture with only dense layers. The dense layer is commonly used in neural networks to connect every neuron in one layer to every neuron in the next layer, making it a fully connected layer"
   ]
  },
  {
   "cell_type": "markdown",
   "metadata": {},
   "source": [
    "# Sequential model 1 with original dataset"
   ]
  },
  {
   "cell_type": "code",
   "execution_count": 20,
   "metadata": {},
   "outputs": [
    {
     "name": "stdout",
     "output_type": "stream",
     "text": [
      "Epoch 1/20\n",
      "\u001b[1m885/885\u001b[0m \u001b[32m━━━━━━━━━━━━━━━━━━━━\u001b[0m\u001b[37m\u001b[0m \u001b[1m1s\u001b[0m 1ms/step - accuracy: 0.4420 - loss: 36.2981\n",
      "Epoch 2/20\n",
      "\u001b[1m885/885\u001b[0m \u001b[32m━━━━━━━━━━━━━━━━━━━━\u001b[0m\u001b[37m\u001b[0m \u001b[1m1s\u001b[0m 958us/step - accuracy: 0.5247 - loss: 15.8454\n",
      "Epoch 3/20\n",
      "\u001b[1m885/885\u001b[0m \u001b[32m━━━━━━━━━━━━━━━━━━━━\u001b[0m\u001b[37m\u001b[0m \u001b[1m1s\u001b[0m 1ms/step - accuracy: 0.5404 - loss: 14.2328\n",
      "Epoch 4/20\n",
      "\u001b[1m885/885\u001b[0m \u001b[32m━━━━━━━━━━━━━━━━━━━━\u001b[0m\u001b[37m\u001b[0m \u001b[1m1s\u001b[0m 1ms/step - accuracy: 0.5426 - loss: 17.4389\n",
      "Epoch 5/20\n",
      "\u001b[1m885/885\u001b[0m \u001b[32m━━━━━━━━━━━━━━━━━━━━\u001b[0m\u001b[37m\u001b[0m \u001b[1m1s\u001b[0m 855us/step - accuracy: 0.5760 - loss: 13.1907\n",
      "Epoch 6/20\n",
      "\u001b[1m885/885\u001b[0m \u001b[32m━━━━━━━━━━━━━━━━━━━━\u001b[0m\u001b[37m\u001b[0m \u001b[1m1s\u001b[0m 929us/step - accuracy: 0.5992 - loss: 13.0726\n",
      "Epoch 7/20\n",
      "\u001b[1m885/885\u001b[0m \u001b[32m━━━━━━━━━━━━━━━━━━━━\u001b[0m\u001b[37m\u001b[0m \u001b[1m1s\u001b[0m 956us/step - accuracy: 0.6033 - loss: 13.4915\n",
      "Epoch 8/20\n",
      "\u001b[1m885/885\u001b[0m \u001b[32m━━━━━━━━━━━━━━━━━━━━\u001b[0m\u001b[37m\u001b[0m \u001b[1m1s\u001b[0m 974us/step - accuracy: 0.6049 - loss: 13.4931\n",
      "Epoch 9/20\n",
      "\u001b[1m885/885\u001b[0m \u001b[32m━━━━━━━━━━━━━━━━━━━━\u001b[0m\u001b[37m\u001b[0m \u001b[1m1s\u001b[0m 886us/step - accuracy: 0.6186 - loss: 12.4464\n",
      "Epoch 10/20\n",
      "\u001b[1m885/885\u001b[0m \u001b[32m━━━━━━━━━━━━━━━━━━━━\u001b[0m\u001b[37m\u001b[0m \u001b[1m1s\u001b[0m 781us/step - accuracy: 0.6007 - loss: 14.9045\n",
      "Epoch 11/20\n",
      "\u001b[1m885/885\u001b[0m \u001b[32m━━━━━━━━━━━━━━━━━━━━\u001b[0m\u001b[37m\u001b[0m \u001b[1m1s\u001b[0m 952us/step - accuracy: 0.6251 - loss: 11.0704\n",
      "Epoch 12/20\n",
      "\u001b[1m885/885\u001b[0m \u001b[32m━━━━━━━━━━━━━━━━━━━━\u001b[0m\u001b[37m\u001b[0m \u001b[1m1s\u001b[0m 867us/step - accuracy: 0.6414 - loss: 9.9428\n",
      "Epoch 13/20\n",
      "\u001b[1m885/885\u001b[0m \u001b[32m━━━━━━━━━━━━━━━━━━━━\u001b[0m\u001b[37m\u001b[0m \u001b[1m1s\u001b[0m 948us/step - accuracy: 0.6218 - loss: 12.0003\n",
      "Epoch 14/20\n",
      "\u001b[1m885/885\u001b[0m \u001b[32m━━━━━━━━━━━━━━━━━━━━\u001b[0m\u001b[37m\u001b[0m \u001b[1m1s\u001b[0m 939us/step - accuracy: 0.6371 - loss: 9.6975\n",
      "Epoch 15/20\n",
      "\u001b[1m885/885\u001b[0m \u001b[32m━━━━━━━━━━━━━━━━━━━━\u001b[0m\u001b[37m\u001b[0m \u001b[1m1s\u001b[0m 914us/step - accuracy: 0.6310 - loss: 10.2013\n",
      "Epoch 16/20\n",
      "\u001b[1m885/885\u001b[0m \u001b[32m━━━━━━━━━━━━━━━━━━━━\u001b[0m\u001b[37m\u001b[0m \u001b[1m1s\u001b[0m 944us/step - accuracy: 0.6356 - loss: 9.1097\n",
      "Epoch 17/20\n",
      "\u001b[1m885/885\u001b[0m \u001b[32m━━━━━━━━━━━━━━━━━━━━\u001b[0m\u001b[37m\u001b[0m \u001b[1m1s\u001b[0m 955us/step - accuracy: 0.6241 - loss: 9.3898\n",
      "Epoch 18/20\n",
      "\u001b[1m885/885\u001b[0m \u001b[32m━━━━━━━━━━━━━━━━━━━━\u001b[0m\u001b[37m\u001b[0m \u001b[1m1s\u001b[0m 907us/step - accuracy: 0.6461 - loss: 8.2765\n",
      "Epoch 19/20\n",
      "\u001b[1m885/885\u001b[0m \u001b[32m━━━━━━━━━━━━━━━━━━━━\u001b[0m\u001b[37m\u001b[0m \u001b[1m1s\u001b[0m 866us/step - accuracy: 0.6479 - loss: 8.0980\n",
      "Epoch 20/20\n",
      "\u001b[1m885/885\u001b[0m \u001b[32m━━━━━━━━━━━━━━━━━━━━\u001b[0m\u001b[37m\u001b[0m \u001b[1m1s\u001b[0m 939us/step - accuracy: 0.6430 - loss: 7.0404\n",
      "\u001b[1m28/28\u001b[0m \u001b[32m━━━━━━━━━━━━━━━━━━━━\u001b[0m\u001b[37m\u001b[0m \u001b[1m0s\u001b[0m 2ms/step \n"
     ]
    },
    {
     "data": {
      "text/plain": [
       "{'accuracy': 0.6135593220338983,\n",
       " 'precision': 0.6713168388787885,\n",
       " 'recall': 0.6135593220338983,\n",
       " 'f1': 0.5644298827781788,\n",
       " 'roc_auc': 0.7992621615953245}"
      ]
     },
     "execution_count": 20,
     "metadata": {},
     "output_type": "execute_result"
    }
   ],
   "source": [
    "sequential_model1 = tf.keras.Sequential([\n",
    "    tf.keras.layers.Input(shape=(36,)), \n",
    "    tf.keras.layers.Dense(128, activation='relu'),\n",
    "    tf.keras.layers.Dense(3, activation='softmax')\n",
    "])\n",
    "\n",
    "sequential_model1.compile(optimizer='adam', loss=tf.keras.losses.SparseCategoricalCrossentropy(from_logits=False), metrics=['accuracy'])\n",
    "\n",
    "sequential_model1.fit(train_val_features, train_val_targets, epochs=20, batch_size=4)\n",
    "\n",
    "evaluate(sequential_model1, test_features, test_targets, 'keras')"
   ]
  },
  {
   "cell_type": "markdown",
   "metadata": {},
   "source": [
    "# Sequential model 1 with scaled dataset"
   ]
  },
  {
   "cell_type": "code",
   "execution_count": 34,
   "metadata": {},
   "outputs": [
    {
     "name": "stderr",
     "output_type": "stream",
     "text": [
      "c:\\Users\\Kosov\\AppData\\Local\\Programs\\Python\\Python310\\lib\\site-packages\\keras\\src\\backend\\tensorflow\\nn.py:635: UserWarning: \"`sparse_categorical_crossentropy` received `from_logits=True`, but the `output` argument was produced by a Softmax activation and thus does not represent logits. Was this intended?\n",
      "  output, from_logits = _get_logits(\n"
     ]
    },
    {
     "data": {
      "text/plain": [
       "{'accuracy': 0.7423728813559322,\n",
       " 'precision': 0.7336979316319859,\n",
       " 'recall': 0.7423728813559322,\n",
       " 'f1': 0.7329983683375254,\n",
       " 'roc_auc': 0.8579928600929954}"
      ]
     },
     "execution_count": 34,
     "metadata": {},
     "output_type": "execute_result"
    }
   ],
   "source": [
    "def create_model():\n",
    "    sequential_model1 = Sequential([\n",
    "    tf.keras.layers.Input(shape=(36,)), \n",
    "    tf.keras.layers.Dense(128, activation='relu'),\n",
    "    tf.keras.layers.Dense(3, activation='softmax')\n",
    "])\n",
    "    sequential_model1.compile(optimizer='adam', loss=tf.keras.losses.SparseCategoricalCrossentropy(from_logits=True), metrics=['accuracy'])\n",
    "    return sequential_model1\n",
    "\n",
    "model = KerasClassifier(model=create_model, verbose=0, epochs=20, batch_size=4)\n",
    "\n",
    "\n",
    "sequential_model1_pipe_1 = pipe_scaled(model)\n",
    "\n",
    "\n",
    "sequential_model1_pipe_1.fit(train_val_features, train_val_targets)\n",
    "\n",
    "evaluate(sequential_model1_pipe_1, test_features, test_targets, 'sklearn')"
   ]
  },
  {
   "cell_type": "markdown",
   "metadata": {},
   "source": [
    "# Sequential model 1 with scaled and pca dataset"
   ]
  },
  {
   "cell_type": "code",
   "execution_count": 35,
   "metadata": {},
   "outputs": [
    {
     "name": "stderr",
     "output_type": "stream",
     "text": [
      "c:\\Users\\Kosov\\AppData\\Local\\Programs\\Python\\Python310\\lib\\site-packages\\keras\\src\\backend\\tensorflow\\nn.py:635: UserWarning: \"`sparse_categorical_crossentropy` received `from_logits=True`, but the `output` argument was produced by a Softmax activation and thus does not represent logits. Was this intended?\n",
      "  output, from_logits = _get_logits(\n"
     ]
    },
    {
     "data": {
      "text/plain": [
       "{'accuracy': 0.7423728813559322,\n",
       " 'precision': 0.7280420954682869,\n",
       " 'recall': 0.7423728813559322,\n",
       " 'f1': 0.7315065843677642,\n",
       " 'roc_auc': 0.8578378876372884}"
      ]
     },
     "execution_count": 35,
     "metadata": {},
     "output_type": "execute_result"
    }
   ],
   "source": [
    "def create_model():\n",
    "    sequential_model1 = Sequential([\n",
    "    tf.keras.layers.Input(shape=(28,)), \n",
    "    tf.keras.layers.Dense(128, activation='relu'),\n",
    "    tf.keras.layers.Dense(3, activation='softmax')\n",
    "])\n",
    "    sequential_model1.compile(optimizer='adam', loss=tf.keras.losses.SparseCategoricalCrossentropy(from_logits=True), metrics=['accuracy'])\n",
    "    return sequential_model1\n",
    "\n",
    "model = KerasClassifier(model=create_model, verbose=0, epochs=20, batch_size=4)\n",
    "\n",
    "\n",
    "sequential_model1_pipe_2 = pipe_scaled_pca(model)\n",
    "\n",
    "\n",
    "sequential_model1_pipe_2.fit(train_val_features, train_val_targets)\n",
    "\n",
    "evaluate(sequential_model1_pipe_2, test_features, test_targets, 'sklearn')"
   ]
  },
  {
   "cell_type": "markdown",
   "metadata": {},
   "source": [
    "# Sequential model 1 with scaled, balanced and pca dataset"
   ]
  },
  {
   "cell_type": "code",
   "execution_count": 36,
   "metadata": {},
   "outputs": [
    {
     "name": "stderr",
     "output_type": "stream",
     "text": [
      "c:\\Users\\Kosov\\AppData\\Local\\Programs\\Python\\Python310\\lib\\site-packages\\keras\\src\\backend\\tensorflow\\nn.py:635: UserWarning: \"`sparse_categorical_crossentropy` received `from_logits=True`, but the `output` argument was produced by a Softmax activation and thus does not represent logits. Was this intended?\n",
      "  output, from_logits = _get_logits(\n"
     ]
    },
    {
     "data": {
      "text/plain": [
       "{'accuracy': 0.696045197740113,\n",
       " 'precision': 0.708944122373936,\n",
       " 'recall': 0.696045197740113,\n",
       " 'f1': 0.7013277771187427,\n",
       " 'roc_auc': 0.8316241843474934}"
      ]
     },
     "execution_count": 36,
     "metadata": {},
     "output_type": "execute_result"
    }
   ],
   "source": [
    "def create_model():\n",
    "    sequential_model1 = Sequential([\n",
    "    tf.keras.layers.Input(shape=(28,)), \n",
    "    tf.keras.layers.Dense(128, activation='relu'),\n",
    "    tf.keras.layers.Dense(3, activation='softmax')\n",
    "])\n",
    "    sequential_model1.compile(optimizer='adam', loss=tf.keras.losses.SparseCategoricalCrossentropy(from_logits=True), metrics=['accuracy'])\n",
    "    return sequential_model1\n",
    "\n",
    "model = KerasClassifier(model=create_model, verbose=0, epochs=20, batch_size=4)\n",
    "\n",
    "\n",
    "sequential_model1_pipe_3 = pipe_normalized_pca_balanced(model)\n",
    "\n",
    "\n",
    "sequential_model1_pipe_3.fit(train_val_features, train_val_targets)\n",
    "\n",
    "evaluate(sequential_model1_pipe_3, test_features, test_targets, 'sklearn')"
   ]
  },
  {
   "cell_type": "markdown",
   "metadata": {},
   "source": [
    "# sequential model 2 with dropout and dense layer\n",
    "For the second sequential model, I am testing a combination of dense layers and a dropout layer. The dense layer is commonly used in neural networks to connect every neuron in one layer to every neuron in the next layer, making it a fully connected layer. The dropout layer, on the other hand, is used to prevent overfitting by randomly setting a fraction of the input units to zero during training, which helps the model generalize better. By using both layers, I aim to create a balanced architecture that can learn effectively while avoiding overfitting"
   ]
  },
  {
   "cell_type": "markdown",
   "metadata": {},
   "source": [
    "# sequential model 2 with orignal dataset"
   ]
  },
  {
   "cell_type": "code",
   "execution_count": 19,
   "metadata": {},
   "outputs": [
    {
     "name": "stdout",
     "output_type": "stream",
     "text": [
      "Epoch 1/20\n"
     ]
    },
    {
     "name": "stderr",
     "output_type": "stream",
     "text": [
      "c:\\Users\\Kosov\\AppData\\Local\\Programs\\Python\\Python310\\lib\\site-packages\\keras\\src\\backend\\tensorflow\\nn.py:635: UserWarning: \"`sparse_categorical_crossentropy` received `from_logits=True`, but the `output` argument was produced by a Softmax activation and thus does not represent logits. Was this intended?\n",
      "  output, from_logits = _get_logits(\n"
     ]
    },
    {
     "name": "stdout",
     "output_type": "stream",
     "text": [
      "\u001b[1m885/885\u001b[0m \u001b[32m━━━━━━━━━━━━━━━━━━━━\u001b[0m\u001b[37m\u001b[0m \u001b[1m2s\u001b[0m 1ms/step - accuracy: 0.4271 - loss: 45.2840\n",
      "Epoch 2/20\n",
      "\u001b[1m885/885\u001b[0m \u001b[32m━━━━━━━━━━━━━━━━━━━━\u001b[0m\u001b[37m\u001b[0m \u001b[1m1s\u001b[0m 966us/step - accuracy: 0.4915 - loss: 25.6152\n",
      "Epoch 3/20\n",
      "\u001b[1m885/885\u001b[0m \u001b[32m━━━━━━━━━━━━━━━━━━━━\u001b[0m\u001b[37m\u001b[0m \u001b[1m1s\u001b[0m 1ms/step - accuracy: 0.5460 - loss: 18.6206\n",
      "Epoch 4/20\n",
      "\u001b[1m885/885\u001b[0m \u001b[32m━━━━━━━━━━━━━━━━━━━━\u001b[0m\u001b[37m\u001b[0m \u001b[1m1s\u001b[0m 920us/step - accuracy: 0.5281 - loss: 24.8344\n",
      "Epoch 5/20\n",
      "\u001b[1m885/885\u001b[0m \u001b[32m━━━━━━━━━━━━━━━━━━━━\u001b[0m\u001b[37m\u001b[0m \u001b[1m1s\u001b[0m 843us/step - accuracy: 0.5732 - loss: 16.7666\n",
      "Epoch 6/20\n",
      "\u001b[1m885/885\u001b[0m \u001b[32m━━━━━━━━━━━━━━━━━━━━\u001b[0m\u001b[37m\u001b[0m \u001b[1m1s\u001b[0m 851us/step - accuracy: 0.5347 - loss: 21.7838\n",
      "Epoch 7/20\n",
      "\u001b[1m885/885\u001b[0m \u001b[32m━━━━━━━━━━━━━━━━━━━━\u001b[0m\u001b[37m\u001b[0m \u001b[1m1s\u001b[0m 854us/step - accuracy: 0.5523 - loss: 19.0840\n",
      "Epoch 8/20\n",
      "\u001b[1m885/885\u001b[0m \u001b[32m━━━━━━━━━━━━━━━━━━━━\u001b[0m\u001b[37m\u001b[0m \u001b[1m1s\u001b[0m 910us/step - accuracy: 0.5889 - loss: 16.3735\n",
      "Epoch 9/20\n",
      "\u001b[1m885/885\u001b[0m \u001b[32m━━━━━━━━━━━━━━━━━━━━\u001b[0m\u001b[37m\u001b[0m \u001b[1m1s\u001b[0m 910us/step - accuracy: 0.5740 - loss: 15.2463\n",
      "Epoch 10/20\n",
      "\u001b[1m885/885\u001b[0m \u001b[32m━━━━━━━━━━━━━━━━━━━━\u001b[0m\u001b[37m\u001b[0m \u001b[1m1s\u001b[0m 908us/step - accuracy: 0.5689 - loss: 16.9296\n",
      "Epoch 11/20\n",
      "\u001b[1m885/885\u001b[0m \u001b[32m━━━━━━━━━━━━━━━━━━━━\u001b[0m\u001b[37m\u001b[0m \u001b[1m1s\u001b[0m 1ms/step - accuracy: 0.5784 - loss: 17.1946\n",
      "Epoch 12/20\n",
      "\u001b[1m885/885\u001b[0m \u001b[32m━━━━━━━━━━━━━━━━━━━━\u001b[0m\u001b[37m\u001b[0m \u001b[1m1s\u001b[0m 970us/step - accuracy: 0.5867 - loss: 12.7331\n",
      "Epoch 13/20\n",
      "\u001b[1m885/885\u001b[0m \u001b[32m━━━━━━━━━━━━━━━━━━━━\u001b[0m\u001b[37m\u001b[0m \u001b[1m1s\u001b[0m 892us/step - accuracy: 0.5738 - loss: 14.1693\n",
      "Epoch 14/20\n",
      "\u001b[1m885/885\u001b[0m \u001b[32m━━━━━━━━━━━━━━━━━━━━\u001b[0m\u001b[37m\u001b[0m \u001b[1m1s\u001b[0m 898us/step - accuracy: 0.5690 - loss: 17.1027\n",
      "Epoch 15/20\n",
      "\u001b[1m885/885\u001b[0m \u001b[32m━━━━━━━━━━━━━━━━━━━━\u001b[0m\u001b[37m\u001b[0m \u001b[1m1s\u001b[0m 866us/step - accuracy: 0.6000 - loss: 11.5258\n",
      "Epoch 16/20\n",
      "\u001b[1m885/885\u001b[0m \u001b[32m━━━━━━━━━━━━━━━━━━━━\u001b[0m\u001b[37m\u001b[0m \u001b[1m1s\u001b[0m 887us/step - accuracy: 0.5873 - loss: 11.0357\n",
      "Epoch 17/20\n",
      "\u001b[1m885/885\u001b[0m \u001b[32m━━━━━━━━━━━━━━━━━━━━\u001b[0m\u001b[37m\u001b[0m \u001b[1m1s\u001b[0m 942us/step - accuracy: 0.6173 - loss: 10.9302\n",
      "Epoch 18/20\n",
      "\u001b[1m885/885\u001b[0m \u001b[32m━━━━━━━━━━━━━━━━━━━━\u001b[0m\u001b[37m\u001b[0m \u001b[1m1s\u001b[0m 850us/step - accuracy: 0.6347 - loss: 9.0670\n",
      "Epoch 19/20\n",
      "\u001b[1m885/885\u001b[0m \u001b[32m━━━━━━━━━━━━━━━━━━━━\u001b[0m\u001b[37m\u001b[0m \u001b[1m1s\u001b[0m 840us/step - accuracy: 0.6333 - loss: 8.9371\n",
      "Epoch 20/20\n",
      "\u001b[1m885/885\u001b[0m \u001b[32m━━━━━━━━━━━━━━━━━━━━\u001b[0m\u001b[37m\u001b[0m \u001b[1m1s\u001b[0m 916us/step - accuracy: 0.5987 - loss: 10.1201\n",
      "\u001b[1m28/28\u001b[0m \u001b[32m━━━━━━━━━━━━━━━━━━━━\u001b[0m\u001b[37m\u001b[0m \u001b[1m0s\u001b[0m 2ms/step\n"
     ]
    },
    {
     "data": {
      "text/plain": [
       "{'accuracy': 0.6033898305084746,\n",
       " 'precision': 0.7629283344424976,\n",
       " 'recall': 0.6033898305084746,\n",
       " 'f1': 0.6388026191791899,\n",
       " 'roc_auc': 0.8340727364564348}"
      ]
     },
     "execution_count": 19,
     "metadata": {},
     "output_type": "execute_result"
    }
   ],
   "source": [
    "sequential_model2 = Sequential([\n",
    "    tf.keras.layers.Input(shape=(36,)), \n",
    "    tf.keras.layers.Dropout(0.1),\n",
    "    tf.keras.layers.Dense(128, activation='relu'),\n",
    "    tf.keras.layers.Dense(3, activation='softmax') \n",
    "])\n",
    "sequential_model2.compile(optimizer='adam', loss=tf.keras.losses.SparseCategoricalCrossentropy(from_logits=True), metrics=['accuracy'])\n",
    "\n",
    "sequential_model2.fit(train_val_features, train_val_targets, epochs=20, batch_size=4)\n",
    "\n",
    "evaluate(sequential_model2, test_features, test_targets, 'keras')"
   ]
  },
  {
   "cell_type": "markdown",
   "metadata": {},
   "source": [
    "# sequential model 2 with scaled dataset"
   ]
  },
  {
   "cell_type": "code",
   "execution_count": 37,
   "metadata": {},
   "outputs": [
    {
     "name": "stderr",
     "output_type": "stream",
     "text": [
      "c:\\Users\\Kosov\\AppData\\Local\\Programs\\Python\\Python310\\lib\\site-packages\\keras\\src\\backend\\tensorflow\\nn.py:635: UserWarning: \"`sparse_categorical_crossentropy` received `from_logits=True`, but the `output` argument was produced by a Softmax activation and thus does not represent logits. Was this intended?\n",
      "  output, from_logits = _get_logits(\n"
     ]
    },
    {
     "data": {
      "text/plain": [
       "{'accuracy': 0.751412429378531,\n",
       " 'precision': 0.7323867513413586,\n",
       " 'recall': 0.751412429378531,\n",
       " 'f1': 0.7342591443118415,\n",
       " 'roc_auc': 0.8652800511977005}"
      ]
     },
     "execution_count": 37,
     "metadata": {},
     "output_type": "execute_result"
    }
   ],
   "source": [
    "def create_model():\n",
    "    sequential_model2 = Sequential([\n",
    "    tf.keras.layers.Input(shape=(36,)), \n",
    "    tf.keras.layers.Dropout(0.1),\n",
    "    tf.keras.layers.Dense(128, activation='relu'),\n",
    "    tf.keras.layers.Dense(3, activation='softmax')\n",
    "])\n",
    "    sequential_model2.compile(optimizer='adam', loss=tf.keras.losses.SparseCategoricalCrossentropy(from_logits=True), metrics=['accuracy'])\n",
    "    return sequential_model2\n",
    "\n",
    "model = KerasClassifier(model=create_model, verbose=0, epochs=20, batch_size=4)\n",
    "\n",
    "\n",
    "sequential_model2_pipe_1 = pipe_scaled(model)\n",
    "\n",
    "\n",
    "sequential_model2_pipe_1.fit(train_val_features, train_val_targets)\n",
    "\n",
    "evaluate(sequential_model2_pipe_1, test_features, test_targets, 'sklearn')\n"
   ]
  },
  {
   "cell_type": "markdown",
   "metadata": {},
   "source": [
    "# sequential model 2 with scaled and pca dataset"
   ]
  },
  {
   "cell_type": "code",
   "execution_count": 38,
   "metadata": {},
   "outputs": [
    {
     "name": "stderr",
     "output_type": "stream",
     "text": [
      "c:\\Users\\Kosov\\AppData\\Local\\Programs\\Python\\Python310\\lib\\site-packages\\keras\\src\\backend\\tensorflow\\nn.py:635: UserWarning: \"`sparse_categorical_crossentropy` received `from_logits=True`, but the `output` argument was produced by a Softmax activation and thus does not represent logits. Was this intended?\n",
      "  output, from_logits = _get_logits(\n"
     ]
    },
    {
     "data": {
      "text/plain": [
       "{'accuracy': 0.7367231638418079,\n",
       " 'precision': 0.7158840210134269,\n",
       " 'recall': 0.7367231638418079,\n",
       " 'f1': 0.720775704039399,\n",
       " 'roc_auc': 0.8599880038614324}"
      ]
     },
     "execution_count": 38,
     "metadata": {},
     "output_type": "execute_result"
    }
   ],
   "source": [
    "def create_model():\n",
    "    sequential_model2 = Sequential([\n",
    "    tf.keras.layers.Input(shape=(28,)), \n",
    "    tf.keras.layers.Dropout(0.1),\n",
    "    tf.keras.layers.Dense(128, activation='relu'),\n",
    "    tf.keras.layers.Dense(3, activation='softmax')\n",
    "])\n",
    "    sequential_model2.compile(optimizer='adam', loss=tf.keras.losses.SparseCategoricalCrossentropy(from_logits=True), metrics=['accuracy'])\n",
    "    return sequential_model2\n",
    "\n",
    "model = KerasClassifier(model=create_model, verbose=0, epochs=20, batch_size=4)\n",
    "\n",
    "\n",
    "sequential_model2_pipe_2 = pipe_scaled_pca(model)\n",
    "\n",
    "\n",
    "sequential_model2_pipe_2.fit(train_val_features, train_val_targets)\n",
    "\n",
    "evaluate(sequential_model2_pipe_2, test_features, test_targets, 'sklearn')\n"
   ]
  },
  {
   "cell_type": "markdown",
   "metadata": {},
   "source": [
    "# sequential model 2 with scaled, balanced and pca dataset"
   ]
  },
  {
   "cell_type": "code",
   "execution_count": 39,
   "metadata": {},
   "outputs": [
    {
     "name": "stderr",
     "output_type": "stream",
     "text": [
      "c:\\Users\\Kosov\\AppData\\Local\\Programs\\Python\\Python310\\lib\\site-packages\\keras\\src\\backend\\tensorflow\\nn.py:635: UserWarning: \"`sparse_categorical_crossentropy` received `from_logits=True`, but the `output` argument was produced by a Softmax activation and thus does not represent logits. Was this intended?\n",
      "  output, from_logits = _get_logits(\n"
     ]
    },
    {
     "data": {
      "text/plain": [
       "{'accuracy': 0.711864406779661,\n",
       " 'precision': 0.7298588325729314,\n",
       " 'recall': 0.711864406779661,\n",
       " 'f1': 0.7190072202549824,\n",
       " 'roc_auc': 0.8479031382009525}"
      ]
     },
     "execution_count": 39,
     "metadata": {},
     "output_type": "execute_result"
    }
   ],
   "source": [
    "def create_model():\n",
    "    sequential_model2 = Sequential([\n",
    "    tf.keras.layers.Input(shape=(28,)), \n",
    "    tf.keras.layers.Dropout(0.1),\n",
    "    tf.keras.layers.Dense(128, activation='relu'),\n",
    "    tf.keras.layers.Dense(3, activation='softmax')\n",
    "])\n",
    "    sequential_model2.compile(optimizer='adam', loss=tf.keras.losses.SparseCategoricalCrossentropy(from_logits=True), metrics=['accuracy'])\n",
    "    return sequential_model2\n",
    "\n",
    "model = KerasClassifier(model=create_model, verbose=0, epochs=20, batch_size=4)\n",
    "\n",
    "\n",
    "sequential_model2_pipe_3 = pipe_normalized_pca_balanced(model)\n",
    "\n",
    "\n",
    "sequential_model2_pipe_3.fit(train_val_features, train_val_targets)\n",
    "\n",
    "evaluate(sequential_model2_pipe_3, test_features, test_targets, 'sklearn')\n"
   ]
  },
  {
   "cell_type": "markdown",
   "metadata": {},
   "source": [
    "# all results from round one:"
   ]
  },
  {
   "cell_type": "code",
   "execution_count": 46,
   "metadata": {},
   "outputs": [
    {
     "name": "stdout",
     "output_type": "stream",
     "text": [
      "MLP classifier\n",
      "Original dataset:\n",
      "{'accuracy': 0.6011299435028249, 'precision': 0.6215220613480804, 'recall': 0.6011299435028249, 'f1': 0.5289921996211034, 'roc_auc': 0.7882502110095643}\n",
      "scaled dataset:\n",
      "{'accuracy': 0.7062146892655368, 'precision': 0.7043545581434714, 'recall': 0.7062146892655368, 'f1': 0.705116390276474, 'roc_auc': 0.8286473473586214}\n",
      "scaled and pca dataset:\n",
      "{'accuracy': 0.7084745762711865, 'precision': 0.7025188754248678, 'recall': 0.7084745762711865, 'f1': 0.7039989041324511, 'roc_auc': 0.8252877665837791}\n",
      "scaled, balanced and pca dataset:\n",
      "{'accuracy': 0.6892655367231638, 'precision': 0.6863177415202129, 'recall': 0.6892655367231638, 'f1': 0.6876235619884556, 'roc_auc': 0.8211662670688852}\n",
      "\n",
      "Sequential model architecture 1\n",
      "Original dataset:\n",
      "\u001b[1m28/28\u001b[0m \u001b[32m━━━━━━━━━━━━━━━━━━━━\u001b[0m\u001b[37m\u001b[0m \u001b[1m0s\u001b[0m 1ms/step \n",
      "{'accuracy': 0.6135593220338983, 'precision': 0.6713168388787885, 'recall': 0.6135593220338983, 'f1': 0.5644298827781788, 'roc_auc': 0.7992621615953245}\n",
      "scaled dataset:\n",
      "{'accuracy': 0.7423728813559322, 'precision': 0.7336979316319859, 'recall': 0.7423728813559322, 'f1': 0.7329983683375254, 'roc_auc': 0.8579928600929954}\n",
      "scaled and pca dataset:\n",
      "{'accuracy': 0.7457627118644068, 'precision': 0.7302345386213516, 'recall': 0.7457627118644068, 'f1': 0.7289313409724207, 'roc_auc': 0.8585203689009878}\n",
      "scaled, balanced and pca dataset:\n",
      "{'accuracy': 0.6949152542372882, 'precision': 0.7063832634687096, 'recall': 0.6949152542372882, 'f1': 0.6997265674652535, 'roc_auc': 0.8318098573769509}\n",
      "\n",
      "Sequential model architecture 2\n",
      "Original dataset:\n",
      "\u001b[1m28/28\u001b[0m \u001b[32m━━━━━━━━━━━━━━━━━━━━\u001b[0m\u001b[37m\u001b[0m \u001b[1m0s\u001b[0m 1ms/step \n",
      "{'accuracy': 0.6033898305084746, 'precision': 0.7629283344424976, 'recall': 0.6033898305084746, 'f1': 0.6388026191791899, 'roc_auc': 0.8340727364564348}\n",
      "scaled dataset:\n",
      "{'accuracy': 0.751412429378531, 'precision': 0.7323867513413586, 'recall': 0.751412429378531, 'f1': 0.7342591443118415, 'roc_auc': 0.8652800511977005}\n",
      "scaled and pca dataset:\n",
      "{'accuracy': 0.7423728813559322, 'precision': 0.7225122647296089, 'recall': 0.7423728813559322, 'f1': 0.7227376628068765, 'roc_auc': 0.859932339961294}\n",
      "scaled, balanced and pca dataset:\n",
      "{'accuracy': 0.711864406779661, 'precision': 0.7298588325729314, 'recall': 0.711864406779661, 'f1': 0.7190072202549824, 'roc_auc': 0.8479031382009525}\n"
     ]
    }
   ],
   "source": [
    "print(\"MLP classifier\")\n",
    "print(\"Original dataset:\")\n",
    "print(evaluate(mlp_classifier, test_features, test_targets, 'sklearn'))\n",
    "print(\"scaled dataset:\")\n",
    "print(evaluate(mlp_pipe_1, test_features, test_targets, 'sklearn'))\n",
    "print(\"scaled and pca dataset:\")\n",
    "print(evaluate(mlp_pipe_2, test_features, test_targets, 'sklearn'))\n",
    "print(\"scaled, balanced and pca dataset:\")\n",
    "print(evaluate(mlp_pipe_3, test_features, test_targets, 'sklearn'))\n",
    "print()\n",
    "print(\"Sequential model architecture 1\")\n",
    "print(\"Original dataset:\")\n",
    "print(evaluate(sequential_model1, test_features, test_targets, 'keras'))\n",
    "print(\"scaled dataset:\")\n",
    "print(evaluate(sequential_model1_pipe_1, test_features, test_targets, 'sklearn'))\n",
    "print(\"scaled and pca dataset:\")\n",
    "print(evaluate(sequential_model1_pipe_2, test_features, test_targets, 'sklearn'))\n",
    "print(\"scaled, balanced and pca dataset:\")\n",
    "print(evaluate(sequential_model1_pipe_3, test_features, test_targets, 'sklearn'))\n",
    "print()\n",
    "print(\"Sequential model architecture 2\")\n",
    "print(\"Original dataset:\")\n",
    "print(evaluate(sequential_model2, test_features, test_targets, 'keras'))\n",
    "print(\"scaled dataset:\")\n",
    "print(evaluate(sequential_model2_pipe_1, test_features, test_targets, 'sklearn'))\n",
    "print(\"scaled and pca dataset:\")\n",
    "print(evaluate(sequential_model2_pipe_2, test_features, test_targets, 'sklearn'))\n",
    "print(\"scaled, balanced and pca dataset:\")\n",
    "print(evaluate(sequential_model2_pipe_3, test_features, test_targets, 'sklearn'))"
   ]
  },
  {
   "cell_type": "markdown",
   "metadata": {},
   "source": [
    "It looks like all models achieved the best results with the scaled dataset. The scaled and PCA dataset produced very similar results, indicating that PCA did not have a significant positive effect on performance. Therefore, we can conclude that PCA is not really necessary for improving the results in this case. Oversampling the dataset was also not necessary, as it resulted in worse overall performance."
   ]
  },
  {
   "cell_type": "markdown",
   "metadata": {},
   "source": [
    "# Round two of finding the best models"
   ]
  },
  {
   "cell_type": "markdown",
   "metadata": {},
   "source": [
    "# grid search funtion\n",
    "I am using a normal grid search function, this will help me find the best models by finding the best parameter combinations. i wanted to use neted grid search which is even better to find the best parameters, but too high runtime."
   ]
  },
  {
   "cell_type": "code",
   "execution_count": 52,
   "metadata": {},
   "outputs": [],
   "source": [
    "def find_best_models(model, dt_params):\n",
    "    precision_scorer = make_scorer(precision_score, average='weighted', zero_division=0)\n",
    "\n",
    "    metrics = {\n",
    "        'accuracy': 'accuracy',\n",
    "        'precision_weighted': precision_scorer,\n",
    "        'recall_weighted': 'recall_weighted',\n",
    "        'f1_weighted': 'f1_weighted',\n",
    "        'roc_auc_ovr_weighted': 'roc_auc_ovr_weighted'\n",
    "    }\n",
    "\n",
    "    inner_cv = StratifiedKFold(n_splits=4, shuffle=True, random_state=13)\n",
    "\n",
    "    dt_cv_results = []\n",
    "    dt_estimators = []\n",
    "    dt_test_scores = {\n",
    "        'accuracy': [],\n",
    "        'precision': [],\n",
    "        'recall': [],\n",
    "        'f1': [],\n",
    "        'roc_auc': [],\n",
    "    }\n",
    "\n",
    "    dt_grid = GridSearchCV(model, dt_params, cv=inner_cv, scoring=metrics, refit='f1_weighted',return_train_score=True)\n",
    "    dt_grid.fit(train_val_features, train_val_targets)\n",
    "\n",
    "    cv_results = pd.DataFrame(dt_grid.cv_results_)\n",
    "    dt_cv_results.append(cv_results)\n",
    "    dt_estimators.append(dt_grid.best_estimator_)\n",
    "\n",
    "    evaluation = evaluate(dt_grid, train_val_features, train_val_targets, 'sklearn')\n",
    "    dt_test_scores['accuracy'].append(evaluation['accuracy'])\n",
    "    dt_test_scores['precision'].append(evaluation['precision'])\n",
    "    dt_test_scores['recall'].append(evaluation['recall'])\n",
    "    dt_test_scores['f1'].append(evaluation['f1'])\n",
    "    dt_test_scores['roc_auc'].append(evaluation['roc_auc'])\n",
    "    return dt_estimators, dt_cv_results, dt_test_scores\n",
    "\n"
   ]
  },
  {
   "cell_type": "markdown",
   "metadata": {},
   "source": [
    "# MLPClassifier"
   ]
  },
  {
   "cell_type": "markdown",
   "metadata": {},
   "source": [
    "parameters i will tune:  \n",
    "hidden_layer_sizes: Defines the number of hidden layers and neurons, affecting the model's complexity and learning capacity.\n",
    "  \n",
    "activation: Specifies the activation function for hidden layers, introducing non-linearity to improve learning (e.g., 'relu', 'tanh', 'logistic').\n",
    "  \n",
    "solver: Determines the optimization method used to minimize the loss function (e.g., 'sgd', 'adam').\n",
    "  \n",
    "max_iter: Sets the maximum number of iterations. If the model doesn't converge, early stopping is enabled to prevent unnecessary training\n"
   ]
  },
  {
   "cell_type": "code",
   "execution_count": 75,
   "metadata": {},
   "outputs": [],
   "source": [
    "MLP_params = {\n",
    "        'classifier__hidden_layer_sizes': [(80,), (100,), (120,), (140)],\n",
    "        'classifier__activation': ['logistic', 'tanh', 'relu'],\n",
    "        'classifier__solver': ['sgd', 'adam'],\n",
    "        'classifier__max_iter': [150, 200, 250],\n",
    "        'classifier__alpha': [1e-4, 1e-3, 1e-2, 1e-1]\n",
    "        \n",
    "    }\n",
    "best_models_mlp_model, cv_results_MLP, model_scores_MLP = find_best_models(pipe_scaled(MLPClassifier(early_stopping=True)), MLP_params)"
   ]
  },
  {
   "cell_type": "markdown",
   "metadata": {},
   "source": [
    "# Plotting the parameters in a graph"
   ]
  },
  {
   "cell_type": "code",
   "execution_count": null,
   "metadata": {},
   "outputs": [
    {
     "data": {
      "image/png": "[encoded data removed]",
      "text/plain": [
       "<Figure size 1800x600 with 5 Axes>"
      ]
     },
     "metadata": {},
     "output_type": "display_data"
    }
   ],
   "source": [
    "plt.figure(figsize=(18, 6))\n",
    "\n",
    "plt.subplot(1, 5, 1)\n",
    "sb.lineplot(data=cv_results_MLP, x='param_classifier__hidden_layer_sizes', y='mean_test_f1_weighted', estimator='mean', errorbar='sd')\n",
    "plt.xlabel('Hidden Layer Sizes')\n",
    "plt.ylabel('Mean Test F1 Score')\n",
    "plt.grid()\n",
    "\n",
    "plt.subplot(1, 5, 2)\n",
    "sb.lineplot(data=cv_results_MLP, x='param_classifier__activation', y='mean_test_f1_weighted', estimator='mean', errorbar='sd')\n",
    "plt.xlabel('Activation Function')\n",
    "plt.ylabel('Mean Test F1 Score')\n",
    "plt.grid()\n",
    "\n",
    "\n",
    "plt.subplot(1, 5, 3)\n",
    "sb.lineplot(data=cv_results_MLP, x='param_classifier__solver', y='mean_test_f1_weighted', estimator='mean', errorbar='sd'\n",
    ")\n",
    "plt.xlabel('Solver')\n",
    "plt.ylabel('Mean Test F1 Score')\n",
    "plt.grid()\n",
    "\n",
    "plt.subplot(1, 5, 4)\n",
    "sb.lineplot(data=cv_results_MLP, x='param_classifier__max_iter', y='mean_test_f1_weighted', estimator='mean', errorbar='sd')\n",
    "plt.xlabel('Max Iterations')\n",
    "plt.ylabel('Mean Test F1 Score')\n",
    "plt.grid()\n",
    "\n",
    "plt.subplot(1, 5, 5)\n",
    "sb.lineplot(data=cv_results_MLP, x='param_classifier__alpha', y='mean_test_f1_weighted', estimator='mean', errorbar='sd')\n",
    "plt.xlabel('Alpha')\n",
    "plt.ylabel('Mean Test F1 Score')\n",
    "plt.grid()\n",
    "\n",
    "plt.tight_layout()\n",
    "plt.show()"
   ]
  },
  {
   "cell_type": "markdown",
   "metadata": {},
   "source": [
    "# the best model from the grid search"
   ]
  },
  {
   "cell_type": "code",
   "execution_count": 85,
   "metadata": {},
   "outputs": [
    {
     "name": "stdout",
     "output_type": "stream",
     "text": [
      "[Pipeline(steps=[('scaler', StandardScaler()),\n",
      "                ('classifier',\n",
      "                 MLPClassifier(alpha=0.001, early_stopping=True,\n",
      "                               hidden_layer_sizes=140))])]\n"
     ]
    }
   ],
   "source": [
    "print(best_models_mlp_model)"
   ]
  },
  {
   "cell_type": "code",
   "execution_count": 86,
   "metadata": {},
   "outputs": [
    {
     "data": {
      "text/plain": [
       "{'accuracy': 0.7581920903954802,\n",
       " 'precision': 0.7395378804204252,\n",
       " 'recall': 0.7581920903954802,\n",
       " 'f1': 0.7431283121825174,\n",
       " 'roc_auc': 0.8743212274818531}"
      ]
     },
     "execution_count": 86,
     "metadata": {},
     "output_type": "execute_result"
    }
   ],
   "source": [
    "best_model_mlp = best_models_mlp_model[0]\n",
    "evaluate(best_model_mlp, test_features, test_targets, 'sklearn')"
   ]
  },
  {
   "cell_type": "markdown",
   "metadata": {},
   "source": [
    "# sequential models:\n",
    "The parameters i am tuning:  \n",
    "optimizer: Determines how the model updates its weights during training (e.g., 'adam', 'sgd').\n",
    "  \n",
    "epochs: The number of complete passes through the dataset during training.\n",
    "  \n",
    "batch size: The number of training samples processed before updating the model's weights.\n",
    "  \n",
    "number of hidden layers: Controls the depth of the network, influencing the model's complexity.\n",
    "  \n",
    "number of neurons in the layers: Defines the size of each layer, impacting how many details the model can capture."
   ]
  },
  {
   "cell_type": "markdown",
   "metadata": {},
   "source": [
    "# sequential model #1\n",
    "to use grid search on a model that is not an sklearn classifier i have to wrap it in with a kerasregressor, so i can use sklearn functions with it, like pipe also. I also made a custom hidden_layers parameter so i can tune number of layers and see what works best for my model"
   ]
  },
  {
   "cell_type": "code",
   "execution_count": null,
   "metadata": {},
   "outputs": [],
   "source": [
    "def create_model(hidden_layers=1, optimizer='adam', activation='relu', num_neurons=128):\n",
    "    model = Sequential({tf.keras.layers.Input(shape=(28,))})\n",
    "\n",
    "    for _ in range(hidden_layers - 1):\n",
    "        model.add(Dense(num_neurons, activation=activation))\n",
    "\n",
    "    model.add(Dense(3, activation='softmax')) \n",
    "    model.compile(optimizer=optimizer, loss='sparse_categorical_crossentropy', metrics=['accuracy'])\n",
    "    return model\n",
    "\n",
    "\n",
    "param_grid = {\n",
    "    'classifier__model__optimizer': ['adam', 'sgd', 'rmsprop'],\n",
    "    'classifier__epochs': [10, 20, 50],\n",
    "    'classifier__batch_size': [16, 32, 64,],\n",
    "    'classifier__hidden_layers': [10, 20, 30],\n",
    "    'classifier__num_neurons': [32, 64, 128]\n",
    "}\n",
    "\n",
    "\n",
    "\n",
    "model = KerasClassifier(model=create_model, hidden_layers=1, num_neurons=128 ,verbose=0)\n",
    "\n",
    "pipeline = pipe_scaled_pca(model)\n",
    "best_models_S_model, cv_results_sq1, model_scores = find_best_models(pipeline, param_grid)\n",
    "\n"
   ]
  },
  {
   "cell_type": "code",
   "execution_count": 90,
   "metadata": {},
   "outputs": [
    {
     "name": "stdout",
     "output_type": "stream",
     "text": [
      "[Pipeline(steps=[('scaler', StandardScaler()),\n",
      "                ('pca',\n",
      "                 ColumnTransformer(remainder='passthrough',\n",
      "                                   transformers=[('pca1', PCA(n_components=1),\n",
      "                                                  [7, 20]),\n",
      "                                                 ('pca2', PCA(n_components=1),\n",
      "                                                  [10, 11]),\n",
      "                                                 ('pca3', PCA(n_components=1),\n",
      "                                                  [21, 27]),\n",
      "                                                 ('pca4', PCA(n_components=1),\n",
      "                                                  [22, 28]),\n",
      "                                                 ('pca5', PCA(n_components=1),\n",
      "                                                  [23, 29]),\n",
      "                                                 ('pca6', PCA(n_components=1),\n",
      "                                                  [24, 30]),\n",
      "                                                 ('pca7', PCA(n_components=1),\n",
      "                                                  [25, 31]),\n",
      "                                                 ('pca8', PCA(n_components=1),\n",
      "                                                  [26, 32])])),\n",
      "                ('classifier',\n",
      "                 KerasClassifier(batch_size=32, epochs=50, hidden_layers=10, model=<function create_model at 0x000001511062F1C0>, model__optimizer='sgd', num_neurons=64, verbose=0))])]\n"
     ]
    }
   ],
   "source": [
    "print(best_models_S_model)"
   ]
  },
  {
   "cell_type": "markdown",
   "metadata": {},
   "source": [
    "# the best model"
   ]
  },
  {
   "cell_type": "code",
   "execution_count": 91,
   "metadata": {},
   "outputs": [
    {
     "data": {
      "text/plain": [
       "{'accuracy': 0.7163841807909604,\n",
       " 'precision': 0.7067152132170276,\n",
       " 'recall': 0.7163841807909604,\n",
       " 'f1': 0.7110351663668457,\n",
       " 'roc_auc': 0.8397835076959083}"
      ]
     },
     "execution_count": 91,
     "metadata": {},
     "output_type": "execute_result"
    }
   ],
   "source": [
    "best_model_S1 = best_models_S_model[0]\n",
    "evaluate(best_model_S1, test_features, test_targets, 'sklearn')"
   ]
  },
  {
   "cell_type": "markdown",
   "metadata": {},
   "source": [
    "# sequential model #2\n",
    "Additionally, I am tuning the following parameters:  \n",
    "drop_out: The percentage of neurons to be dropped during training to prevent overfitting.  \n",
    "hidden_layers_drop_out: The number of hidden layers to retain after each dense layer, which affects the depth of the model."
   ]
  },
  {
   "cell_type": "code",
   "execution_count": 95,
   "metadata": {},
   "outputs": [
    {
     "name": "stderr",
     "output_type": "stream",
     "text": [
      "c:\\Users\\Kosov\\AppData\\Local\\Programs\\Python\\Python310\\lib\\site-packages\\numpy\\ma\\core.py:2820: RuntimeWarning: invalid value encountered in cast\n",
      "  _data = np.array(data, dtype=dtype, copy=copy,\n"
     ]
    }
   ],
   "source": [
    "def create_model(drop_out=0.1, hidden_layers=1, hidden_layers_drop_out=1, optimizer='adam', activation='relu', num_neurons=128):\n",
    "    model = Sequential({tf.keras.layers.Input(shape=(28,))})\n",
    "\n",
    "    for _ in range(hidden_layers - 1):\n",
    "        model.add(Dense(num_neurons, activation=activation))\n",
    "        if hidden_layers_drop_out > 0:\n",
    "            model.add(Dropout(drop_out))\n",
    "\n",
    "    model.add(Dense(3, activation='softmax')) \n",
    "    model.compile(optimizer=optimizer, loss='sparse_categorical_crossentropy', metrics=['accuracy'])\n",
    "    return model\n",
    "\n",
    "\n",
    "param_grid = {\n",
    "    'classifier__model__optimizer': ['adam', 'sgd', 'rmsprop'],\n",
    "    'classifier__epochs': [10, 20, 50],\n",
    "    'classifier__batch_size': [32, 64],\n",
    "    'classifier__hidden_layers': [2, 3],\n",
    "    'classifier__num_neurons': [64, 128],\n",
    "    'classifier__drop_out': [0.1, 0.3],\n",
    "    'classifier__hidden_layers_drop_out': [2, 3],\n",
    "}\n",
    "\n",
    "\n",
    "\n",
    "model = KerasClassifier(model=create_model, drop_out=0.1, hidden_layers=1, hidden_layers_drop_out=1, num_neurons=128 ,verbose=0)\n",
    "\n",
    "pipeline = pipe_scaled_pca(model)\n",
    "best_models_S_model, cv_results_sq2, model_scores = find_best_models(pipeline, param_grid)\n",
    "\n"
   ]
  },
  {
   "cell_type": "code",
   "execution_count": 96,
   "metadata": {},
   "outputs": [
    {
     "name": "stdout",
     "output_type": "stream",
     "text": [
      "[Pipeline(steps=[('scaler', StandardScaler()),\n",
      "                ('pca',\n",
      "                 ColumnTransformer(remainder='passthrough',\n",
      "                                   transformers=[('pca1', PCA(n_components=1),\n",
      "                                                  [7, 20]),\n",
      "                                                 ('pca2', PCA(n_components=1),\n",
      "                                                  [10, 11]),\n",
      "                                                 ('pca3', PCA(n_components=1),\n",
      "                                                  [21, 27]),\n",
      "                                                 ('pca4', PCA(n_components=1),\n",
      "                                                  [22, 28]),\n",
      "                                                 ('pca5', PCA(n_components=1),\n",
      "                                                  [23, 29]),\n",
      "                                                 ('pca6', PCA(n_components=1),\n",
      "                                                  [24, 30]),\n",
      "                                                 ('pca7', PCA(n_components=1),\n",
      "                                                  [25, 31]),\n",
      "                                                 ('pca8', PCA(n_components=1),\n",
      "                                                  [26, 32])])),\n",
      "                ('classifier',\n",
      "                 KerasClassifier(batch_size=32, drop_out=0.3, epochs=50, hidden_layers=3, hidden_layers_drop_out=2, model=<function create_model at 0x0000015803032D40>, model__optimizer='rmsprop', num_neurons=64, verbose=0))])]\n"
     ]
    }
   ],
   "source": [
    "print(best_models_S_model)"
   ]
  },
  {
   "cell_type": "code",
   "execution_count": 97,
   "metadata": {},
   "outputs": [
    {
     "data": {
      "text/plain": [
       "{'accuracy': 0.7593220338983051,\n",
       " 'precision': 0.7405232886890536,\n",
       " 'recall': 0.7593220338983051,\n",
       " 'f1': 0.7432842480423395,\n",
       " 'roc_auc': 0.8705413811959183}"
      ]
     },
     "execution_count": 97,
     "metadata": {},
     "output_type": "execute_result"
    }
   ],
   "source": [
    "best_model_S2 = best_models_S_model[0]\n",
    "evaluate(best_model_S2, test_features, test_targets, 'sklearn')"
   ]
  },
  {
   "cell_type": "markdown",
   "metadata": {},
   "source": [
    "# comparing the results of the best models found"
   ]
  },
  {
   "cell_type": "code",
   "execution_count": 98,
   "metadata": {},
   "outputs": [
    {
     "name": "stdout",
     "output_type": "stream",
     "text": [
      "best MLP model\n",
      "{'accuracy': 0.7581920903954802, 'precision': 0.7395378804204252, 'recall': 0.7581920903954802, 'f1': 0.7431283121825174, 'roc_auc': 0.8743212274818531}\n",
      "\n",
      "best sequential model with the first architecture\n",
      "{'accuracy': 0.7163841807909604, 'precision': 0.7067152132170276, 'recall': 0.7163841807909604, 'f1': 0.7110351663668457, 'roc_auc': 0.8397835076959083}\n",
      "\n",
      "best sequential model with the second arthitecture\n",
      "{'accuracy': 0.7593220338983051, 'precision': 0.7405232886890536, 'recall': 0.7593220338983051, 'f1': 0.7432842480423395, 'roc_auc': 0.8705413811959183}\n"
     ]
    }
   ],
   "source": [
    "print(\"best MLP model\")\n",
    "print(evaluate(best_model_mlp, test_features, test_targets, 'sklearn'))\n",
    "print()\n",
    "print(\"best sequential model with the first architecture\")\n",
    "print(evaluate(best_model_S1, test_features, test_targets, 'sklearn'))\n",
    "print()\n",
    "print(\"best sequential model with the second arthitecture\")\n",
    "print(evaluate(best_model_S2, test_features, test_targets, 'sklearn'))"
   ]
  },
  {
   "cell_type": "markdown",
   "metadata": {},
   "source": [
    "# visuall representation of the results with confusion matrix\n",
    "0: Dropout\n",
    "1: enrolled\n",
    "2:Graduate"
   ]
  },
  {
   "cell_type": "code",
   "execution_count": 101,
   "metadata": {},
   "outputs": [
    {
     "data": {
      "image/png": "[encoded data removed]",
      "text/plain": [
       "<Figure size 640x480 with 2 Axes>"
      ]
     },
     "metadata": {},
     "output_type": "display_data"
    }
   ],
   "source": [
    "y_pred = best_model_mlp.predict(test_features)\n",
    "cm = confusion_matrix(test_targets, y_pred)\n",
    "\n",
    "sb.heatmap(cm, annot=True, fmt='d', cmap='YlGnBu', xticklabels=[0, 1, 2], yticklabels=[0, 1, 2])\n",
    "plt.xlabel('Prediction', fontsize=12)\n",
    "plt.ylabel('Actual', fontsize=12)\n",
    "plt.title('Confusion Matrix', fontsize=16)\n",
    "plt.show()"
   ]
  },
  {
   "cell_type": "code",
   "execution_count": 99,
   "metadata": {},
   "outputs": [
    {
     "data": {
      "image/png": "[encoded data removed]",
      "text/plain": [
       "<Figure size 640x480 with 2 Axes>"
      ]
     },
     "metadata": {},
     "output_type": "display_data"
    }
   ],
   "source": [
    "y_pred = best_model_S1.predict(test_features)\n",
    "cm = confusion_matrix(test_targets, y_pred)\n",
    "\n",
    "sb.heatmap(cm, annot=True, fmt='d', cmap='YlGnBu', xticklabels=[0, 1, 2], yticklabels=[0, 1, 2])\n",
    "plt.xlabel('Prediction', fontsize=12)\n",
    "plt.ylabel('Actual', fontsize=12)\n",
    "plt.title('Confusion Matrix', fontsize=16)\n",
    "plt.show()"
   ]
  },
  {
   "cell_type": "code",
   "execution_count": 100,
   "metadata": {},
   "outputs": [
    {
     "data": {
      "image/png": "[encoded data removed]",
      "text/plain": [
       "<Figure size 640x480 with 2 Axes>"
      ]
     },
     "metadata": {},
     "output_type": "display_data"
    }
   ],
   "source": [
    "y_pred = best_model_S2.predict(test_features)\n",
    "cm = confusion_matrix(test_targets, y_pred)\n",
    "\n",
    "sb.heatmap(cm, annot=True, fmt='d', cmap='YlGnBu', xticklabels=[0, 1, 2], yticklabels=[0, 1, 2])\n",
    "plt.xlabel('Prediction', fontsize=12)\n",
    "plt.ylabel('Actual', fontsize=12)\n",
    "plt.title('Confusion Matrix', fontsize=16)\n",
    "plt.show()"
   ]
  },
  {
   "cell_type": "markdown",
   "metadata": {},
   "source": [
    "# Conclusion\n",
    "The results from the first round:  \n",
    "The scaled data generally produced the best results. Scaling is often beneficial when working with Artificial Neural Networks, as it helps the model converge more efficiently and improves overall performance. There was a noticeable improvement compared to the original dataset. However, the scaled data combined with PCA resulted in slightly lower performance, indicating that PCA was not particularly effective for this dataset when used with ANN. This could be because oversampling may have altered the features too significantly, potentially introducing noise or synthetic patterns that did not align well with the original data distribution.\n",
    "  \n",
    "The results of the second round:   \n",
    "The sequential model with the second architecture achieved the best results, with the MLP model coming in as a very close second. All three models demonstrated strong performance, suggesting that they are capable of accurately predicting the categories and distinguishing between the groups in most cases. However, the differences between the top models were minimal, indicating that both the second sequential model and the MLP model are viable options for this task\n",
    "  \n",
    "Confusion matrix results:  \n",
    "The confusion matrix shows that most of the models correctly classified the categories. The sequential model with the second architecture had the highest number of correct predictions. It struggled slightly with distinguishing between \"graduated\" and \"enrolled,\" but this is not the most critical issue, as the key objective is identifying whether someone is dropping out. The MLP model had slightly fewer correct predictions, with the same challenge in distinguishing between \"graduated\" and \"enrolled.\" The sequential model with the first architecture had a few more incorrect predictions and had even more difficulty differentiating between \"graduated\" and \"enrolled.\" However, most of the models performed well in distinguishing between \"dropout\" and \"non-dropout,\" which is the most important aspect for this task. Overall, the best performing model was the sequential model with architecture 2, though the MLP model was close behind.\n",
    "\n",
    "  \n",
    "The best model:  \n",
    "The MLP model can be considered the best overall. While its performance was very close to that of the second sequential model, which had slightly better results, the MLP model stands out due to its simplicity and efficiency. Being an sklearn model, it is much easier to set up and tune its parameters compared to the sequential model. Additionally, it requires significantly less time to train, making it more practical for broader use\n",
    "\n",
    "Things to consider with these results:\n",
    "  \n",
    "I could have explored more parameters, but the process was very time-consuming, so I may not have found the absolute best models for each type. The Keras models, in particular, had extremely high runtimes, even when using a regular grid search instead of a nested one. I would have liked to experiment with different architectures, such as varying the number of layers and testing more hyperparameters, but I was constrained by time. Alternatively, I could have used RandomizedSearchCV, which is faster, but it does not guarantee finding the best model since it only samples a subset of the parameter space.\n",
    "  \n",
    "  \n",
    "Compare results to regular sklearn models from supervised learning II:\n",
    "When comparing the results to the regular sklearn models from Supervised Learning II, the Random Forest model with the altered data (scaled, balanced, and PCA) performed a bit better. Random Forests tend to work well for classification problems like this one, especially when the data has a mix of features and complex relationships. On the other hand, ANNs are better suited for more complex problems like image recognition, where the relationships between features are more intricate. In this case, the Random Forest model’s simpler structure made it a better fit for this dataset, so I’d go with that over the ANN\n",
    "\n"
   ]
  },
  {
   "cell_type": "markdown",
   "metadata": {},
   "source": [
    "# Sources\n",
    "Scikit-learn Documentation. (n.d.). MLPClassifier. Retrieved from https://scikit-learn.org/stable/modules/generated/sklearn.neural_network.MLPClassifier.html\n",
    "  \n",
    "Raza, A. (2020, March 16). Hyperparameter tuning with Keras and GridSearchCV: A comprehensive guide. Medium. Retrieved from https://medium.com/swlh/hyperparameter-tuning-with-keras-and-gridsearchcv-a-comprehensive-guide-46214cc0d999\n",
    "  \n",
    "Stack Overflow. (2018, March 25). Grid search the number of hidden layers with Keras. Stack Overflow. Retrieved from https://stackoverflow.com/questions/47788799/grid-search-the-number-of-hidden-layers-with-keras\n",
    "  \n",
    "DataCamp. (n.d.). Multilayer perceptrons in machine learning. DataCamp. Retrieved from https://www.datacamp.com/tutorial/multilayer-perceptrons-in-machine-learning?dc_referrer=https%3A%2F%2Fwww.google.com%2F\n",
    "  \n",
    "Panjeh, H. (2020, June 9). Scikit-learn hyperparameter optimization for MLPClassifier. Medium. Retrieved from https://panjeh.medium.com/scikit-learn-hyperparameter-optimization-for-mlpclassifier-4d670413042b\n",
    "  \n",
    "Scikit-learn Documentation: StandardScaler\n",
    "Scikit-learn. (2024). StandardScaler. Retrieved from https://scikit-learn.org/dev/modules/generated/sklearn.preprocessing.StandardScaler.html\n",
    "  \n",
    "Medium Article: Introduction to Machine Learning Pipelines\n",
    "Jang, C. (2020, November 17). Introduction to machine learning pipelines. Medium. Retrieved from https://medium.com/@cezinejang/introduction-to-machine-learning-pipelines-adb041120856\n",
    "  \n",
    "StackOverflow: Precision Calculation Warning\n",
    "StackOverflow. (2020, May 13). Precision calculation warning when using GridSearchCV for logistic regression. Retrieved from https://stackoverflow.com/questions/66538197/precision-calculation-warning-when-using-gridsearchcv-for-logistic-regression\n",
    "  \n",
    "Scikit-learn. (2024). GridSearchCV. Retrieved from https://scikit-learn.org/dev/modules/generated/sklearn.model_selection.GridSearchCV.html"
   ]
  }
 ],
 "metadata": {
  "kernelspec": {
   "display_name": "Python 3",
   "language": "python",
   "name": "python3"
  },
  "language_info": {
   "codemirror_mode": {
    "name": "ipython",
    "version": 3
   },
   "file_extension": ".py",
   "mimetype": "text/x-python",
   "name": "python",
   "nbconvert_exporter": "python",
   "pygments_lexer": "ipython3",
   "version": "3.10.6"
  }
 },
 "nbformat": 4,
 "nbformat_minor": 2
}
